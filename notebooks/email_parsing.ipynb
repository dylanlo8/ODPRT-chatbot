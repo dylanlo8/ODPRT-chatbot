{
 "cells": [
  {
   "cell_type": "code",
   "execution_count": 1,
   "metadata": {},
   "outputs": [
    {
     "name": "stdout",
     "output_type": "stream",
     "text": [
      "/Users/aldensio/Desktop/Projects/ODPRT-chatbot\n"
     ]
    }
   ],
   "source": [
    "import os\n",
    "%cd .."
   ]
  },
  {
   "cell_type": "markdown",
   "metadata": {},
   "source": [
    "## Example Email"
   ]
  },
  {
   "cell_type": "code",
   "execution_count": 2,
   "metadata": {},
   "outputs": [],
   "source": [
    "import extract_msg"
   ]
  },
  {
   "cell_type": "code",
   "execution_count": 3,
   "metadata": {},
   "outputs": [],
   "source": [
    "f = r'docs/emails/Agreement Type/Agreement Type 01-04B.msg'\n",
    "msg = extract_msg.Message(f)\n",
    "msg_sender = msg.sender\n",
    "msg_date = msg.date\n",
    "msg_subj = msg.subject\n",
    "msg_message = msg.body"
   ]
  },
  {
   "cell_type": "code",
   "execution_count": null,
   "metadata": {},
   "outputs": [],
   "source": [
    "print(msg_message)"
   ]
  },
  {
   "cell_type": "markdown",
   "metadata": {},
   "source": [
    "## Email Processor"
   ]
  },
  {
   "cell_type": "code",
   "execution_count": 5,
   "metadata": {},
   "outputs": [],
   "source": [
    "import logging\n",
    "\n",
    "logger = logging.getLogger(__name__)\n",
    "\n",
    "if not logger.hasHandlers():\n",
    "    logger.setLevel(logging.INFO)\n",
    "    handler = logging.StreamHandler()\n",
    "    formatter = logging.Formatter('%(levelname)s - %(message)s')\n",
    "    handler.setFormatter(formatter)\n",
    "    logger.addHandler(handler)"
   ]
  },
  {
   "cell_type": "code",
   "execution_count": 6,
   "metadata": {},
   "outputs": [],
   "source": [
    "from langchain_core.output_parsers import StrOutputParser\n",
    "from langchain_openai import ChatOpenAI\n",
    "from langchain_core.prompts.chat import ChatPromptTemplate\n",
    "\n",
    "from pydantic import BaseModel, Field\n",
    "from typing import Literal, List"
   ]
  },
  {
   "cell_type": "code",
   "execution_count": 7,
   "metadata": {},
   "outputs": [],
   "source": [
    "class UsefulnessClassification(BaseModel):\n",
    "    reasoning: str = Field(description=\"The reasoning behind the classification\")\n",
    "    classification: Literal[\"useful\", \"not_useful\"] = Field(description=\"a string to represent if the thread is useful or not useful\")\n",
    "\n",
    "class QAPairs(BaseModel):\n",
    "    questions: List[str] = Field(description=\"A list of question(s) the client(s) is/are asking\")\n",
    "    answers: List[str] = Field(description=\"The answers to the question(s) asked\")"
   ]
  },
  {
   "cell_type": "code",
   "execution_count": 8,
   "metadata": {},
   "outputs": [],
   "source": [
    "CLASSIFICATION_PROMPT = \"\"\"You are a classification assistant determining whether an email thread is useful or not.\n",
    "\n",
    "Email Thread:\n",
    "{email_thread}\n",
    "\n",
    "Context:\n",
    "The NUS Office of the Deputy President (Research & Technology) (ODPRT) oversees research compliance, integrity, grant administration, strategic initiatives, industry engagement, and research communications at NUS. The Industry Engagements & Partnerships (IEP) team within ODPRT manages industry partnerships and collaborations.\n",
    "\n",
    "Instructions:\n",
    "1. Read the email thread.\n",
    "2. Write a brief reasoning for your classification.\n",
    "3. Classify the email thread as \"useful\" or \"not_useful.\"\n",
    "\n",
    "Guidelines for Classification:\n",
    "1. Useful: The thread contains specific, actionable, or relevant information regarding research funding, industry partnerships, or strategic initiatives.\n",
    "2. Not Useful: The thread is generic, lacks substantive content, or does not pertain to ODPRT's functions.\n",
    "3. Not Useful: If no clear determination can be made, classify as \"Not Useful.\"\n",
    "\n",
    "Output Format:\n",
    "- `reasoning`: (Brief explanation)\n",
    "- `classification`: 'useful' or 'not_useful'\"\"\""
   ]
  },
  {
   "cell_type": "code",
   "execution_count": 9,
   "metadata": {},
   "outputs": [],
   "source": [
    "QA_PROMPT = \"\"\"You are an assistant that extracts all relevant question-answer pairs from an email thread.\n",
    "\n",
    "Email Thread:\n",
    "{email_thread}\n",
    "\n",
    "Instructions:\n",
    "1. Identify all distinct questions asked by the sender(s) within the email thread.\n",
    "2. Extract the corresponding answers from the same thread, ensuring relevance and accuracy.\n",
    "3. Maintain the chronological order of the questions and answers.\n",
    "4. If no clear question is present, return an empty list for `questions`.\n",
    "5. If a question has no available answer in the thread, return \"No answer available\" in the corresponding position in `answers`.\n",
    "\n",
    "Output Format:\n",
    "`questions`: [\"First extracted question\", \"Second extracted question\"],\n",
    "`answers`: [\"First corresponding answer\", \"Second corresponding answer\"]\"\"\""
   ]
  },
  {
   "cell_type": "code",
   "execution_count": 10,
   "metadata": {},
   "outputs": [],
   "source": [
    "llm = ChatOpenAI(\n",
    "    api_key=os.getenv('OPENAI_API_KEY'),\n",
    "    model=os.getenv('OPENAI_MODEL'),\n",
    "    temperature=0\n",
    ")"
   ]
  },
  {
   "cell_type": "code",
   "execution_count": 11,
   "metadata": {},
   "outputs": [],
   "source": [
    "classification_chain = ChatPromptTemplate([\n",
    "    (\"system\", CLASSIFICATION_PROMPT),\n",
    "    (\"human\", \"{email_thread}\"),\n",
    "]) | llm.with_structured_output(UsefulnessClassification)\n",
    "\n",
    "\n",
    "qa_chain = ChatPromptTemplate([\n",
    "    (\"system\", QA_PROMPT),\n",
    "    (\"human\", \"{email_thread}\"),\n",
    "]) | llm.with_structured_output(QAPairs)\n"
   ]
  },
  {
   "cell_type": "code",
   "execution_count": 12,
   "metadata": {},
   "outputs": [],
   "source": [
    "classification_response = classification_chain.invoke(msg_message)"
   ]
  },
  {
   "cell_type": "code",
   "execution_count": 13,
   "metadata": {},
   "outputs": [
    {
     "data": {
      "text/plain": [
       "'The email thread discusses the process of extending a research project, including the requirement for a VA (Value Added) and the transition to an online portal for managing research agreements. This information is relevant to the functions of the NUS Office of the Deputy President (Research & Technology) and pertains to research funding and compliance, making it useful for stakeholders involved in research administration.'"
      ]
     },
     "execution_count": 13,
     "metadata": {},
     "output_type": "execute_result"
    }
   ],
   "source": [
    "classification_response.reasoning"
   ]
  },
  {
   "cell_type": "code",
   "execution_count": 14,
   "metadata": {},
   "outputs": [
    {
     "data": {
      "text/plain": [
       "'useful'"
      ]
     },
     "execution_count": 14,
     "metadata": {},
     "output_type": "execute_result"
    }
   ],
   "source": [
    "classification_response.classification"
   ]
  },
  {
   "cell_type": "code",
   "execution_count": 15,
   "metadata": {},
   "outputs": [],
   "source": [
    "qa_response = qa_chain.invoke(msg_message)"
   ]
  },
  {
   "cell_type": "code",
   "execution_count": 16,
   "metadata": {},
   "outputs": [
    {
     "data": {
      "text/plain": [
       "['Could I get IEP’s advice if we are able to proceed to extend the research project based on the email approval for grantor?',\n",
       " 'Should we wait for the VA to be executed?',\n",
       " 'Could you assist to assign a case officer for the VA please?',\n",
       " 'Could you advise if VA is required for this RCA?']"
      ]
     },
     "execution_count": 16,
     "metadata": {},
     "output_type": "execute_result"
    }
   ],
   "source": [
    "qa_response.questions"
   ]
  },
  {
   "cell_type": "code",
   "execution_count": 17,
   "metadata": {},
   "outputs": [
    {
     "data": {
      "text/plain": [
       "['No answer available',\n",
       " 'No answer available',\n",
       " 'Yes, a VA would be required for this RCA for the project extension.',\n",
       " 'Yes, a VA would be required for this RCA for the project extension.']"
      ]
     },
     "execution_count": 17,
     "metadata": {},
     "output_type": "execute_result"
    }
   ],
   "source": [
    "qa_response.answers"
   ]
  }
 ],
 "metadata": {
  "kernelspec": {
   "display_name": "Python 3",
   "language": "python",
   "name": "python3"
  },
  "language_info": {
   "codemirror_mode": {
    "name": "ipython",
    "version": 3
   },
   "file_extension": ".py",
   "mimetype": "text/x-python",
   "name": "python",
   "nbconvert_exporter": "python",
   "pygments_lexer": "ipython3",
   "version": "3.11.5"
  }
 },
 "nbformat": 4,
 "nbformat_minor": 2
}
