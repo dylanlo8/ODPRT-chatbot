{
 "cells": [
  {
   "cell_type": "code",
   "execution_count": 1,
   "metadata": {},
   "outputs": [
    {
     "name": "stdout",
     "output_type": "stream",
     "text": [
      "D:\\ODPRT-chatbot\n"
     ]
    }
   ],
   "source": [
    "%cd D:\\ODPRT-chatbot\\"
   ]
  },
  {
   "cell_type": "code",
   "execution_count": 2,
   "metadata": {},
   "outputs": [
    {
     "name": "stderr",
     "output_type": "stream",
     "text": [
      "d:\\ODPRT-chatbot\\venv\\Lib\\site-packages\\tqdm\\auto.py:21: TqdmWarning: IProgress not found. Please update jupyter and ipywidgets. See https://ipywidgets.readthedocs.io/en/stable/user_install.html\n",
      "  from .autonotebook import tqdm as notebook_tqdm\n"
     ]
    },
    {
     "name": "stdout",
     "output_type": "stream",
     "text": [
      "Collection 'odprt_index' already exists\n"
     ]
    }
   ],
   "source": [
    "from chatbot.backend.inference.response_generator import ResponseGenerator"
   ]
  },
  {
   "cell_type": "code",
   "execution_count": 3,
   "metadata": {},
   "outputs": [],
   "source": [
    "response_generator = ResponseGenerator()"
   ]
  },
  {
   "cell_type": "markdown",
   "metadata": {},
   "source": [
    "### unrelated random question"
   ]
  },
  {
   "cell_type": "code",
   "execution_count": 4,
   "metadata": {},
   "outputs": [
    {
     "name": "stderr",
     "output_type": "stream",
     "text": [
      "INFO - route to `unrelated`\n"
     ]
    }
   ],
   "source": [
    "test_dumb_question = response_generator.query_workflow(user_query=\"draw a pregnant lebron james in ASCII\")"
   ]
  },
  {
   "cell_type": "code",
   "execution_count": 6,
   "metadata": {},
   "outputs": [
    {
     "name": "stderr",
     "output_type": "stream",
     "text": [
      "INFO - route to `related`\n"
     ]
    }
   ],
   "source": [
    "test_dumb_question = response_generator.query_workflow(user_query=\"\"\"I would like to transfer data from my collaborator for my research project, what agreement do I need?\"\"\")"
   ]
  },
  {
   "cell_type": "code",
   "execution_count": 7,
   "metadata": {},
   "outputs": [
    {
     "name": "stdout",
     "output_type": "stream",
     "text": [
      "To transfer data from your collaborator for your research project, you will typically need a Data Transfer Agreement (DTA). This agreement outlines the terms and conditions under which the data can be shared, ensuring compliance with legal and ethical standards. \n",
      "\n",
      "For specific guidance and to obtain the necessary templates or support, please contact the relevant department at NUS or the Industry Engagements & Partnerships (IEP) team.\n",
      "<class 'str'>\n"
     ]
    }
   ],
   "source": [
    "print(test_dumb_question)\n",
    "print(type(test_dumb_question))"
   ]
  },
  {
   "cell_type": "markdown",
   "metadata": {},
   "source": [
    "### related question, but no context "
   ]
  },
  {
   "cell_type": "code",
   "execution_count": 5,
   "metadata": {},
   "outputs": [
    {
     "name": "stderr",
     "output_type": "stream",
     "text": [
      "INFO - route to `related`\n"
     ]
    }
   ],
   "source": [
    "test_no_context = response_generator.query_workflow(user_query=\"How should we deal with the lack of funding for project KNNCCB?\")"
   ]
  },
  {
   "cell_type": "code",
   "execution_count": 6,
   "metadata": {},
   "outputs": [
    {
     "name": "stdout",
     "output_type": "stream",
     "text": [
      "I apologize, but I do not have sufficient information regarding project KNNCCB or its funding situation. I recommend reaching out to the appropriate department or team within NUS that handles project funding for further assistance.\n"
     ]
    }
   ],
   "source": [
    "print(test_no_context)"
   ]
  },
  {
   "cell_type": "markdown",
   "metadata": {},
   "source": [
    "### vague question"
   ]
  },
  {
   "cell_type": "code",
   "execution_count": 7,
   "metadata": {},
   "outputs": [
    {
     "name": "stderr",
     "output_type": "stream",
     "text": [
      "INFO - route to `vague` with clarifying question\n"
     ]
    }
   ],
   "source": [
    "test_vague = response_generator.query_workflow(user_query=\"What is the status of KNNCCB?\")"
   ]
  },
  {
   "cell_type": "code",
   "execution_count": 8,
   "metadata": {},
   "outputs": [
    {
     "name": "stdout",
     "output_type": "stream",
     "text": [
      "Could you provide more context about KNNCCB? Is it a specific project or initiative related to industry engagement or partnerships?\n"
     ]
    }
   ],
   "source": [
    "print(test_vague)"
   ]
  },
  {
   "cell_type": "markdown",
   "metadata": {},
   "source": [
    "### initial vague question, reprompted, with context and chat history"
   ]
  },
  {
   "cell_type": "code",
   "execution_count": 9,
   "metadata": {},
   "outputs": [
    {
     "name": "stderr",
     "output_type": "stream",
     "text": [
      "INFO - route to `related`\n"
     ]
    }
   ],
   "source": [
    "SECOND_USER_QUERY = \"I wanna know about the current timeline of the KNNCCB project, since there was a pause last time\"\n",
    "\n",
    "test_history = response_generator.query_workflow(\n",
    "    user_query=SECOND_USER_QUERY,\n",
    "    context=\"KNNCCB:\\ncurrently waiting for funding from our stakeholders. halted until further notice.\",\n",
    "    chat_history=\"Human: What is the status of KNNCCB?\\n\\nAI: Could you provide more details about project KNNCCB, such as its focus or the specific information you are seeking?\"\n",
    ")"
   ]
  },
  {
   "cell_type": "code",
   "execution_count": 10,
   "metadata": {},
   "outputs": [
    {
     "name": "stdout",
     "output_type": "stream",
     "text": [
      "The KNNCCB project is currently on hold and awaiting funding from stakeholders. There is no specific timeline available for when the project will resume, as it is halted until further notice.\n"
     ]
    }
   ],
   "source": [
    "print(test_history)"
   ]
  },
  {
   "cell_type": "markdown",
   "metadata": {},
   "source": [
    "### user uploaded files"
   ]
  },
  {
   "cell_type": "code",
   "execution_count": 12,
   "metadata": {},
   "outputs": [
    {
     "name": "stderr",
     "output_type": "stream",
     "text": [
      "INFO - route to `related`\n"
     ]
    }
   ],
   "source": [
    "UPLOADED_CONTENT = \"\"\"This document is a summary of the KNNCCB project, which is under the ODPRT team. \n",
    "It is currently in the planning phase and is expected to be completed by the end of the year.\n",
    "KNNCCB aims to develop a new vaccine for cancer, which will be tested in clinical trials.\"\"\"\n",
    "\n",
    "CONTEXT = \"\"\"KNNCCB is led by: Dr. John Doe, Dr. Jane Doe, and Dr. John Smith.\n",
    "The lead researchers are: punani prikashi, and johnny sins.\n",
    "The project is funded by: the Ministry of Health, and the Ministry of Education.\n",
    "You can contact the FESTR team for more information.\n",
    "\"\"\"\n",
    "\n",
    "test_redirect_department = response_generator.query_workflow(\n",
    "    user_query=\"Who can i contact to get more information about this?\",\n",
    "    uploaded_content=UPLOADED_CONTENT,\n",
    "    context=CONTEXT,\n",
    ")"
   ]
  },
  {
   "cell_type": "code",
   "execution_count": 13,
   "metadata": {},
   "outputs": [
    {
     "name": "stdout",
     "output_type": "stream",
     "text": [
      "You can contact the FESTR team for more information about the KNNCCB project.\n"
     ]
    }
   ],
   "source": [
    "print(test_redirect_department)"
   ]
  },
  {
   "cell_type": "markdown",
   "metadata": {},
   "source": [
    "### email generator"
   ]
  },
  {
   "cell_type": "code",
   "execution_count": null,
   "metadata": {},
   "outputs": [],
   "source": [
    "CHAT_HISTORY = \"\"\"Human: What is the status of KNNCCB?\n",
    "AI: Could you provide more details about project KNNCCB, such as its focus or the specific information you are seeking?\n",
    "Human: I wanna know about the current timeline of the KNNCCB project, since there was a pause last time\n",
    "AI: KNNCCB is currently waiting for funding from our stakeholders. It is halted until further notice. In the meantime, you can contact the FESTR team for more information. \n",
    "Person of Contact: Dr. Punani Prikash\n",
    "Contact Number: 12345678\n",
    "Email: punani_festr@nus.edu.sg\n",
    "\"\"\"\n",
    "\n",
    "email_subject, email_body, email_recipients = response_generator.generate_email(\n",
    "    chat_history=CHAT_HISTORY\n",
    ")"
   ]
  },
  {
   "cell_type": "code",
   "execution_count": 5,
   "metadata": {},
   "outputs": [
    {
     "name": "stdout",
     "output_type": "stream",
     "text": [
      "Email Subject:\n",
      "\n",
      "Request for Update on KNNCCB Project Timeline\n",
      "=============================================================================================================================\n",
      "Recipients:\n",
      "\n",
      "['punani_festr@nus.edu.sg']\n",
      "=============================================================================================================================\n",
      "Email Body:\n",
      "\n",
      "Dear Dr. Punani Prikash,\n",
      "\n",
      "I hope this message finds you well. \n",
      "\n",
      "I am writing to inquire about the current timeline of the KNNCCB project. I understand that the project is currently on hold pending funding from stakeholders, but I would appreciate any additional information you could provide regarding the expected timeline for resuming activities.\n",
      "\n",
      "Thank you for your assistance, and I look forward to your prompt response.\n",
      "\n",
      "Best regards,\n",
      "\n",
      "[Your Name]  \n",
      "[Your Contact Information]\n"
     ]
    }
   ],
   "source": [
    "print(f\"Email Subject:\\n\\n{email_subject}\")\n",
    "print(\"=====\" * 25)\n",
    "print(f\"Recipients:\\n\\n{email_recipients}\")\n",
    "print(\"=====\" * 25)\n",
    "print(f\"Email Body:\\n\\n{email_body}\")"
   ]
  },
  {
   "cell_type": "code",
   "execution_count": null,
   "metadata": {},
   "outputs": [],
   "source": []
  }
 ],
 "metadata": {
  "kernelspec": {
   "display_name": "venv",
   "language": "python",
   "name": "python3"
  },
  "language_info": {
   "codemirror_mode": {
    "name": "ipython",
    "version": 3
   },
   "file_extension": ".py",
   "mimetype": "text/x-python",
   "name": "python",
   "nbconvert_exporter": "python",
   "pygments_lexer": "ipython3",
   "version": "3.12.9"
  }
 },
 "nbformat": 4,
 "nbformat_minor": 2
}
