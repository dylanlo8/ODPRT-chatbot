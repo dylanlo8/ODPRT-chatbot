{
 "cells": [
  {
   "cell_type": "code",
   "execution_count": 1,
   "metadata": {},
   "outputs": [
    {
     "name": "stdout",
     "output_type": "stream",
     "text": [
      "/Users/aldensio/Desktop/Projects/ODPRT-chatbot\n"
     ]
    }
   ],
   "source": [
    "%cd .."
   ]
  },
  {
   "cell_type": "code",
   "execution_count": 2,
   "metadata": {},
   "outputs": [
    {
     "name": "stderr",
     "output_type": "stream",
     "text": [
      "/Library/Frameworks/Python.framework/Versions/3.11/lib/python3.11/site-packages/sentence_transformers/cross_encoder/CrossEncoder.py:11: TqdmExperimentalWarning: Using `tqdm.autonotebook.tqdm` in notebook mode. Use `tqdm.tqdm` instead to force console mode (e.g. in jupyter console)\n",
      "  from tqdm.autonotebook import tqdm, trange\n",
      "/Library/Frameworks/Python.framework/Versions/3.11/lib/python3.11/site-packages/huggingface_hub/file_download.py:1132: FutureWarning: `resume_download` is deprecated and will be removed in version 1.0.0. Downloads always resume when possible. If you want to force a new download, use `force_download=True`.\n",
      "  warnings.warn(\n"
     ]
    }
   ],
   "source": [
    "from chatbot.backend.email_processor.email_processor import EmailProcessor"
   ]
  },
  {
   "cell_type": "code",
   "execution_count": 3,
   "metadata": {},
   "outputs": [],
   "source": [
    "email_processor = EmailProcessor()"
   ]
  },
  {
   "cell_type": "code",
   "execution_count": 4,
   "metadata": {},
   "outputs": [
    {
     "name": "stderr",
     "output_type": "stream",
     "text": [
      "INFO - Total emails: 10\n",
      "INFO - Useful emails: 10\n",
      "INFO - Removed 2 duplicate QA pairs\n"
     ]
    }
   ],
   "source": [
    "qa_pairs = email_processor.get_qa_pairs()"
   ]
  },
  {
   "cell_type": "code",
   "execution_count": 5,
   "metadata": {},
   "outputs": [
    {
     "data": {
      "text/plain": [
       "['question: May I confirm the only variation that we would need to do is just the extend the Project? There is no other changes to be made to the Project (e.g. funding etc)? answer: Yes, the only variation is to extend the project and there shall be no fresh injection of funds save from what has been agreed upon in the original agreement (i.e. no change in budget quantum).',\n",
       " 'question: Could you advise if VA is required for this RCA? answer: Yes, a VA would be required for this RCA for the project extension.',\n",
       " 'question: Is RCA needed for MOE Tier 2 grant? answer: Yes, an RCA is needed based on the criteria provided.',\n",
       " 'question: Can we consider Jay an NUS affiliate? answer: Jay will be helping us with the single-nucleus library prep. But Jay is an adjunct associate professor with NUS.',\n",
       " 'question: Could you please advise the process of MOA? answer: The Memorandum of Agreement (MOA) signed is between any entities under NUHS with any of the 3 schools in NUS (YYLSOM & ALCNS, FOD or SSHSPH).',\n",
       " 'question: Would like to clarify whether RCA is required for this project? answer: As this is only a two-year pilot study, we are concerning about time required to process RCA.']"
      ]
     },
     "execution_count": 5,
     "metadata": {},
     "output_type": "execute_result"
    }
   ],
   "source": [
    "qa_pairs"
   ]
  },
  {
   "cell_type": "code",
   "execution_count": null,
   "metadata": {},
   "outputs": [],
   "source": []
  }
 ],
 "metadata": {
  "kernelspec": {
   "display_name": "Python 3",
   "language": "python",
   "name": "python3"
  },
  "language_info": {
   "codemirror_mode": {
    "name": "ipython",
    "version": 3
   },
   "file_extension": ".py",
   "mimetype": "text/x-python",
   "name": "python",
   "nbconvert_exporter": "python",
   "pygments_lexer": "ipython3",
   "version": "3.11.5"
  }
 },
 "nbformat": 4,
 "nbformat_minor": 2
}
