{
 "cells": [
  {
   "cell_type": "code",
   "execution_count": 1,
   "metadata": {},
   "outputs": [
    {
     "name": "stdout",
     "output_type": "stream",
     "text": [
      "/Users/aldensio/Desktop/Projects/ODPRT-chatbot\n"
     ]
    }
   ],
   "source": [
    "%cd .."
   ]
  },
  {
   "cell_type": "code",
   "execution_count": 2,
   "metadata": {},
   "outputs": [],
   "source": [
    "from chatbot.backend.email_processor.email_processor import EmailProcessor"
   ]
  },
  {
   "cell_type": "code",
   "execution_count": 3,
   "metadata": {},
   "outputs": [],
   "source": [
    "email_processor = EmailProcessor()"
   ]
  },
  {
   "cell_type": "code",
   "execution_count": 4,
   "metadata": {},
   "outputs": [
    {
     "name": "stderr",
     "output_type": "stream",
     "text": [
      "INFO - Total emails: 10\n",
      "INFO - Reasoning: The email thread discusses an approved project extension related to a research grant, which is relevant to the functions of the NUS Office of the Deputy President (Research & Technology) and the IEP team. It contains specific information about the project, including grantor details and the request for processing the extension, making it actionable and pertinent to research funding and administration.\n",
      "INFO - Reasoning: The email thread discusses the approval and processing of a project extension for 'The Rhizosphere Carbon Project', including confirmation of no changes to funding and the necessary administrative steps. This information is relevant to research funding and compliance, making it useful for the functions of the NUS Office of the Deputy President (Research & Technology).\n",
      "INFO - Reasoning: The email thread discusses the process of extending a research project, including the requirement for a VA (Value Added) and the transition to an online portal for managing research agreements. This information is relevant to research funding and compliance, which falls under the functions of the ODPRT.\n",
      "INFO - Reasoning: The email discusses a recently awarded MOE Tier 2 grant and inquires about the necessity of a Research Compliance Assessment (RCA), which is relevant to grant administration and compliance oversight. This aligns with the functions of the NUS Office of the Deputy President (Research & Technology) and the IEP team, making the thread useful for understanding grant-related processes.\n",
      "INFO - Reasoning: The email discusses a research project with an industry collaborator, Belun Technology, and seeks advice on how to proceed with the collaboration. This is relevant to the functions of the IEP team, which manages industry partnerships and collaborations, making the thread useful.\n",
      "INFO - Reasoning: The email thread discusses the necessity of a Research Collaboration Agreement (RCA) for a project funded by a MOE Tier 2 grant, detailing the roles of collaborators and the requirements for the agreement. This information is relevant to research compliance and grant administration, making it useful for understanding the administrative processes involved in research partnerships.\n",
      "INFO - Reasoning: The email thread discusses a Memorandum of Agreement (MOA) between NUS and NUHS regarding project agreements, which is relevant to research funding and collaboration. It includes specific details about the process for managing projects under this agreement, the roles of principal investigators, and the necessary documentation for grant management. This information is actionable and pertinent to the functions of the NUS Office of the Deputy President (Research & Technology).\n",
      "INFO - Reasoning: The email thread discusses the requirements for a research collaboration between NUH and NUS, specifically whether a Research Collaboration Agreement (RCA) is needed. This is relevant to the functions of the NUS Office of the Deputy President (Research & Technology) as it pertains to research compliance and collaboration agreements. Additionally, it includes details about a grant award and the necessary steps for grant account creation, which are actionable and relevant to research funding.\n",
      "INFO - Reasoning: The email discusses a project agreement involving multiple institutions and requests the assignment of a case manager for review, which is relevant to the functions of the NUS Office of the Deputy President (Research & Technology) regarding research compliance and partnerships.\n",
      "INFO - Reasoning: The email thread discusses a project extension and funds virement request, which are relevant to research funding and grant administration. It includes specific details about the project, the amounts involved, and the necessary approvals required, making it actionable and pertinent to the functions of the ODPRT.\n",
      "INFO - Useful emails: 10\n"
     ]
    }
   ],
   "source": [
    "questions, answers = email_processor.get_qa_pairs()"
   ]
  },
  {
   "cell_type": "code",
   "execution_count": 5,
   "metadata": {},
   "outputs": [
    {
     "data": {
      "text/plain": [
       "['May I confirm the only variation that we would need to do is just the extend the Project. There is no other changes to be made to the Project (e.g. funding etc)?',\n",
       " 'Could you advise if VA is required for this RCA?',\n",
       " 'Could you assist to assign a case officer for the VA please?',\n",
       " 'Could you advise if VA is required for this RCA?',\n",
       " 'Is RCA needed for MOE Tier 2 grant?',\n",
       " 'It seems that an RCA is needed, am I correct?',\n",
       " 'Could you please advise the process of MOA?',\n",
       " 'I would like to seek advice if a VA is needed for this research project please?']"
      ]
     },
     "execution_count": 5,
     "metadata": {},
     "output_type": "execute_result"
    }
   ],
   "source": [
    "questions"
   ]
  },
  {
   "cell_type": "code",
   "execution_count": 6,
   "metadata": {},
   "outputs": [
    {
     "data": {
      "text/plain": [
       "['The only variation is to extend the project and there shall be no fresh injection of funds save from what has been agreed upon in the original agreement (i.e. no change in budget quantum).',\n",
       " 'Yes, a VA would be required for this RCA for the project extension.',\n",
       " 'Yes, a VA would be required for this RCA for the project extension.',\n",
       " 'Yes, a VA would be required for this RCA for the project extension.',\n",
       " \"An RCA will be required if (as relevant): 1) The project is supported by external grant and Collaborator is identified in the grant proposal; and/or 2) Collaborator will provide cash funding to NUS; and/or 3) Collaborator is required to perform part of the work under the project; and/or 4) Collaborator's resources (IP, confidential information or data, materials equipment, facilities etc.) are required by NUS for the project.\",\n",
       " 'Yes, an RCA is needed.',\n",
       " 'The Memorandum of Agreement (MOA) signed is between any entities under NUHS with any of the 3 schools in NUS (YYLSOM & ALCNS, FOD or SSHSPH).',\n",
       " 'For projects that are funded and governed under a RCA, usually PI will have to liaise with the project manager for funder’s side, in this case, HDB, for the required extension to be made. A variation agreement will be required to capture the approved extension.']"
      ]
     },
     "execution_count": 6,
     "metadata": {},
     "output_type": "execute_result"
    }
   ],
   "source": [
    "answers"
   ]
  },
  {
   "cell_type": "code",
   "execution_count": null,
   "metadata": {},
   "outputs": [],
   "source": []
  }
 ],
 "metadata": {
  "kernelspec": {
   "display_name": "Python 3",
   "language": "python",
   "name": "python3"
  },
  "language_info": {
   "codemirror_mode": {
    "name": "ipython",
    "version": 3
   },
   "file_extension": ".py",
   "mimetype": "text/x-python",
   "name": "python",
   "nbconvert_exporter": "python",
   "pygments_lexer": "ipython3",
   "version": "3.11.5"
  }
 },
 "nbformat": 4,
 "nbformat_minor": 2
}
