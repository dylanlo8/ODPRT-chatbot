{
 "cells": [
  {
   "cell_type": "code",
   "execution_count": 1,
   "metadata": {},
   "outputs": [
    {
     "name": "stdout",
     "output_type": "stream",
     "text": [
      "/Users/aldensio/Desktop/Projects/ODPRT-chatbot\n"
     ]
    }
   ],
   "source": [
    "import os\n",
    "%cd .."
   ]
  },
  {
   "cell_type": "markdown",
   "metadata": {},
   "source": [
    "## Example Email"
   ]
  },
  {
   "cell_type": "code",
   "execution_count": 2,
   "metadata": {},
   "outputs": [],
   "source": [
    "import extract_msg"
   ]
  },
  {
   "cell_type": "code",
   "execution_count": 3,
   "metadata": {},
   "outputs": [],
   "source": [
    "f = r'docs/emails/Agreement Type/Agreement Type 01-04B.msg'\n",
    "msg = extract_msg.Message(f)\n",
    "msg_sender = msg.sender\n",
    "msg_date = msg.date\n",
    "msg_subj = msg.subject\n",
    "msg_message = msg.body"
   ]
  },
  {
   "cell_type": "code",
   "execution_count": 4,
   "metadata": {},
   "outputs": [],
   "source": [
    "# print(msg_message)"
   ]
  },
  {
   "cell_type": "markdown",
   "metadata": {},
   "source": [
    "## Email Processor"
   ]
  },
  {
   "cell_type": "code",
   "execution_count": 5,
   "metadata": {},
   "outputs": [],
   "source": [
    "import logging\n",
    "\n",
    "logger = logging.getLogger(__name__)\n",
    "\n",
    "if not logger.hasHandlers():\n",
    "    logger.setLevel(logging.INFO)\n",
    "    handler = logging.StreamHandler()\n",
    "    formatter = logging.Formatter('%(levelname)s - %(message)s')\n",
    "    handler.setFormatter(formatter)\n",
    "    logger.addHandler(handler)"
   ]
  },
  {
   "cell_type": "code",
   "execution_count": 6,
   "metadata": {},
   "outputs": [],
   "source": [
    "from langchain_core.output_parsers import StrOutputParser\n",
    "from langchain_openai import ChatOpenAI\n",
    "from langchain_core.prompts.chat import ChatPromptTemplate\n",
    "\n",
    "from pydantic import BaseModel, Field\n",
    "from typing import Literal, List"
   ]
  },
  {
   "cell_type": "code",
   "execution_count": 7,
   "metadata": {},
   "outputs": [],
   "source": [
    "class UsefulnessClassification(BaseModel):\n",
    "    reasoning: str = Field(description=\"The reasoning behind the classification\")\n",
    "    classification: Literal[\"useful\", \"not_useful\"] = Field(description=\"a string to represent if the thread is useful or not useful\")\n",
    "\n",
    "class QAPairs(BaseModel):\n",
    "    questions: List[str] = Field(description=\"A list of question(s) the client(s) is/are asking\")\n",
    "    answers: List[str] = Field(description=\"The answers to the question(s) asked\")"
   ]
  },
  {
   "cell_type": "code",
   "execution_count": 8,
   "metadata": {},
   "outputs": [],
   "source": [
    "CLASSIFICATION_PROMPT = \"\"\"You are a classification assistant determining whether an email thread is useful or not.\n",
    "\n",
    "Email Thread:\n",
    "{email_thread}\n",
    "\n",
    "Context:\n",
    "The NUS Office of the Deputy President (Research & Technology) (ODPRT) oversees research compliance, integrity, grant administration, strategic initiatives, industry engagement, and research communications at NUS. The Industry Engagements & Partnerships (IEP) team within ODPRT manages industry partnerships and collaborations.\n",
    "\n",
    "Guidelines for Classification:\n",
    "1. Useful: The thread contains specific, actionable, or relevant information regarding research funding, industry partnerships, or strategic initiatives.\n",
    "2. Not Useful: The thread is generic, lacks substantive content, or does not pertain to ODPRT's functions.\n",
    "3. Not Useful: If no clear determination can be made, classify as \"Not Useful.\"\n",
    "\n",
    "Instructions:\n",
    "1. Read the email thread.\n",
    "2. Write a brief and concise reasoning for your classification.\n",
    "3. Classify the email thread as \"useful\" or \"not_useful.\"\n",
    "\n",
    "Output Format:\n",
    "- `reasoning`: (Brief and concise explanation)\n",
    "- `classification`: 'useful' or 'not_useful'\"\"\""
   ]
  },
  {
   "cell_type": "code",
   "execution_count": 9,
   "metadata": {},
   "outputs": [],
   "source": [
    "QA_PROMPT = \"\"\"You are an assistant that extracts all relevant question-answer pairs from an email thread.\n",
    "\n",
    "Email Thread:\n",
    "{email_thread}\n",
    "\n",
    "Instructions:\n",
    "1. Identify all distinct questions asked by the sender(s) within the email thread.\n",
    "2. Extract the corresponding answers from the same thread, ensuring relevance and accuracy.\n",
    "3. Maintain the chronological order of the questions and answers.\n",
    "4. If no clear question is present, return an empty list for `questions`.\n",
    "5. If a question has no available answer in the thread, return \"No answer available\" in the corresponding position in `answers`.\n",
    "\n",
    "Output Format:\n",
    "`questions`: [\"First extracted question\", \"Second extracted question\"],\n",
    "`answers`: [\"First corresponding answer\", \"Second corresponding answer\"]\"\"\""
   ]
  },
  {
   "cell_type": "code",
   "execution_count": 10,
   "metadata": {},
   "outputs": [],
   "source": [
    "llm = ChatOpenAI(\n",
    "    api_key=os.getenv('OPENAI_API_KEY'),\n",
    "    model=os.getenv('OPENAI_MODEL'),\n",
    "    temperature=0\n",
    ")"
   ]
  },
  {
   "cell_type": "code",
   "execution_count": 11,
   "metadata": {},
   "outputs": [],
   "source": [
    "classification_chain = ChatPromptTemplate([\n",
    "    (\"system\", CLASSIFICATION_PROMPT),\n",
    "    (\"human\", \"{email_thread}\"),\n",
    "]) | llm.with_structured_output(UsefulnessClassification)\n",
    "\n",
    "\n",
    "qa_chain = ChatPromptTemplate([\n",
    "    (\"system\", QA_PROMPT),\n",
    "    (\"human\", \"{email_thread}\"),\n",
    "]) | llm.with_structured_output(QAPairs)\n"
   ]
  },
  {
   "cell_type": "code",
   "execution_count": 12,
   "metadata": {},
   "outputs": [],
   "source": [
    "classification_response = classification_chain.invoke({\"email_thread\": msg_message})"
   ]
  },
  {
   "cell_type": "code",
   "execution_count": 13,
   "metadata": {},
   "outputs": [
    {
     "data": {
      "text/plain": [
       "'The email thread discusses the process of extending a research project, including the requirement for a VA (Value Added) and the transition to an online portal for managing research agreements. This information is relevant to research funding and compliance, which falls under the functions of the ODPRT.'"
      ]
     },
     "execution_count": 13,
     "metadata": {},
     "output_type": "execute_result"
    }
   ],
   "source": [
    "classification_response.reasoning"
   ]
  },
  {
   "cell_type": "code",
   "execution_count": 14,
   "metadata": {},
   "outputs": [
    {
     "data": {
      "text/plain": [
       "'useful'"
      ]
     },
     "execution_count": 14,
     "metadata": {},
     "output_type": "execute_result"
    }
   ],
   "source": [
    "classification_response.classification"
   ]
  },
  {
   "cell_type": "code",
   "execution_count": 15,
   "metadata": {},
   "outputs": [],
   "source": [
    "qa_response = qa_chain.invoke(msg_message)"
   ]
  },
  {
   "cell_type": "code",
   "execution_count": 16,
   "metadata": {},
   "outputs": [
    {
     "data": {
      "text/plain": [
       "['Could I get IEP’s advice if we are able to proceed to extend the research project based on the email approval for grantor?',\n",
       " 'Should we wait for the VA to be executed?',\n",
       " 'Could you assist to assign a case officer for the VA please?',\n",
       " 'Could you advise if VA is required for this RCA?']"
      ]
     },
     "execution_count": 16,
     "metadata": {},
     "output_type": "execute_result"
    }
   ],
   "source": [
    "qa_response.questions"
   ]
  },
  {
   "cell_type": "code",
   "execution_count": 17,
   "metadata": {},
   "outputs": [
    {
     "data": {
      "text/plain": [
       "['No answer available',\n",
       " 'No answer available',\n",
       " 'Yes, a VA would be required for this RCA for the project extension.',\n",
       " 'Yes, a VA would be required for this RCA for the project extension.']"
      ]
     },
     "execution_count": 17,
     "metadata": {},
     "output_type": "execute_result"
    }
   ],
   "source": [
    "qa_response.answers"
   ]
  },
  {
   "cell_type": "code",
   "execution_count": 4,
   "metadata": {},
   "outputs": [
    {
     "name": "stdout",
     "output_type": "stream",
     "text": [
      "68\n",
      "question: I will be working with an external company on a project. Who can I contact to get more information on the type of agreement required? answer: Is your agreement research related? If yes, please refer to ODPRT - Research Agreements for more information on types of agreement.  If your agreement is not research related, please contact the relevant offices below: (a) Intellectual Property (IP) matters, IP agreement, Materials Transfer, outgoing Data transfer, NUS IP licences; contact Technology Transfer and Innovation office (TTI) - Contract-Admin@nus.edu.sg  (b) General legal advice, non-research /academic/student related agreements, incoming data transfer (for research or otherwise), in-licensing of data/software/IP, provision of services (non-research), employment agreements; contact Office of Legal Affairs (OLA) – olasec@nus.edu.sg (c) procurement (for research or non-research services/goods): contact central Procurement Office (CPO) – askcpo@nus.edu.sg. Please contact IEP-Admin if you have further queries.\n",
      "question: I wish to extend an existing research agreement or my research project, who should I contact? What should I do? answer: Please submit your request to IEP Contracting Hub and a IEP case officer will be assigned to assist you. If you do not have access to IEP Contracting Hub, please contact IEP-Admin for a user account to be created. If in doubt, you may contact IEP-Admin before submitting your request to IEP Contracting Hub.\n",
      "question: I wish to terminate my research project  or research agreement, who do I contact, what should I do? answer: Please submit your request to IEP Contracting Hub and a IEP case officer will be assigned to assist you. If you do not have access to IEP Contracting Hub, please contact IEP-Admin for a user account to be created. If in doubt, you may contact IEP-Admin before submitting your request to IEP Contracting Hub.\n",
      "question: I have a variation agreement or amendment agreement or termination agreement for review or to be reviewed, who should I contact? What should I do? answer: Please submit your request to IEP Contracting Hub and a IEP case officer will be assigned to assist you. If you do not have access to IEP Contracting Hub, please contact IEP-Admin for a user account to be created. If in doubt, you may contact IEP-Admin before submitting your request to IEP Contracting Hub.\n",
      "question: When do I need a Research Collaboration Agreement (RCA)? answer: Research Collaboration Agreement (RCA) is typically needed in the following scenarios: Joint research projects: where NUS and your collaborator(s) are working together on a research project. The RCA will outline the terms of the collaboration, including roles, responsibilities, and contributions NUS and your collaborator(s). Grant support research projects: the joint research project is supported by an external research grant and your collaborator(s) is/are identified in the research grant proposal. Sharing of resources: IP, confidential information or data, materials equipment, facilities etc. that may be shared by NUS and your collaborator(s) for the joint research project. Funding and financial support: If there is financial support or funding involved, the agreement should specify how funds will be allocated, managed, and reported. A research collaboration agreement helps prevent misunderstandings and provides a clear framework for how the research will be conducted and managed.\n",
      "question: When is a Research Collaboration Agreement (RCA) required? answer: Research Collaboration Agreement (RCA) is typically needed in the following scenarios: Joint research projects: where NUS and your collaborator(s) are working together on a research project. The RCA will outline the terms of the collaboration, including roles, responsibilities, and contributions NUS and your collaborator(s). Grant support research projects: the joint research project is supported by an external research grant and your collaborator(s) is/are identified in the research grant proposal. Sharing of resources: IP, confidential information or data, materials equipment, facilities etc. that may be shared by NUS and your collaborator(s) for the joint research project. Funding and financial support: If there is financial support or funding involved, the agreement should specify how funds will be allocated, managed, and reported. A research collaboration agreement helps prevent misunderstandings and provides a clear framework for how the research will be conducted and managed.\n",
      "question: When do I need a Contract Research Agreement (CRA)? answer: Contract Research Agreement (CRA) is typically needed if your collaborator is providing funding to NUS for a research project and expects to own all intellectual property rights that may arise from the research project. Under a CRA arrangement, NUS is providing a contracted research services – it is no longer a “collaboration”, and NUS’ costs (except for PI’s salary if already funded by core funding) must be fully borne by your collaborator.  In addition, 60% indirect research costs (IRC) are applicable. CRAs are NOT encouraged if the research project to be conducted requires NUS to put in significant intellectual / inventive inputs and/or has the potential to create novel IP and know-how which NUS should retain rights to advance its own research capabilities. Typically, CRA are meant for research projects which require only incremental or minor intellectual inputs / expertise from NUS.\n",
      "question: When is a Contract Research Agreement required? answer: Contract Research Agreement (CRA) is typically needed if your collaborator is providing funding to NUS for a research project and expects to own all intellectual property rights that may arise from the research project. Under a CRA arrangement, NUS is providing a contracted research services – it is no longer a “collaboration”, and NUS’ costs (except for PI’s salary if already funded by core funding) must be fully borne by your collaborator.  In addition, 60% indirect research costs (IRC) are applicable. CRAs are NOT encouraged if the research project to be conducted requires NUS to put in significant intellectual / inventive inputs and/or has the potential to create novel IP and know-how which NUS should retain rights to advance its own research capabilities. Typically, CRA are meant for research projects which require only incremental or minor intellectual inputs / expertise from NUS.\n",
      "question: What is the difference between Research Collaboration Agreement (RCA) and Contract Research Agreement (CRA)? answer: Research Collaboration Agreement (RCA) is to govern the collaborative research project and which include terms relating to confidentiality, IP rights, publication, liabilities etc. Research Collaboration Agreement (RCA) is typically needed in the following scenarios: Joint research projects: where NUS and your collaborator(s) are working together on a research project. The RCA will outline the terms of the collaboration, including roles, responsibilities, and contributions NUS and your collaborator(s). Grant support research projects: the joint research project is supported by an external research grant and your collaborator(s) is/are identified in the research grant proposal. Sharing of resources: IP, confidential information or data, materials equipment, facilities etc. that may be shared by NUS and your collaborator(s) for the joint research project. Funding and financial support: If there is financial support or funding involved, the agreement should specify how funds will be allocated, managed, and reported. A research collaboration agreement helps prevent misunderstandings and provides a clear framework for how the research will be conducted and managed. Contract Research Agreement (CRA) is to govern contracted research project. It is typically needed if your collaborator is providing funding to NUS for a research project and expects to own all intellectual property rights that may arise from the research project. Under a CRA arrangement, NUS is providing a contracted research services – it is no longer a “collaboration”, and NUS’ costs (except for PI’s salary if already funded by core funding) must be fully borne by your collaborator.  In addition, 60% indirect research costs (IRC) are applicable. CRAs are NOT encouraged if the research project to be conducted requires NUS to put in significant intellectual / inventive inputs and/or has the potential to create novel IP and know-how which NUS should retain rights to advance its own research capabilities. Typically, CRA are meant for research projects which require only incremental or minor intellectual inputs / expertise from NUS.\n",
      "question: My collaborator is asking for NUS (NDA/RCA/CRA/MOU) template. Where can I find them? answer: Is the template that you are requesting related to research? If yes, you may submit your request to IEP Contracting Hub  If you do not have access to IEP Contracting Hub, please contact IEP-Admin for a user account to be created. If the template that you are requested is not research related, please contact the relevant offices below: (a) Intellectual Property (IP) matters, IP agreement, Materials Transfer, outgoing Data transfer, NUS IP licences; contact Technology Transfer and Innovation office (TTI) - Contract-Admin@nus.edu.sg (b) General legal advice, non-research /academic/student related agreements, incoming data transfer (for research or otherwise), in-licensing of data/software/IP, provision of services (non-research), employment agreements; contact Office of Legal Affairs (OLA) – olasec@nus.edu.sg  (c) procurement (for research or non-research services/goods): contact central Procurement Office (CPO) – askcpo@nus.edu.sg  Please contact IEP-Admin if you have further queries.\n",
      "question: I need (NDA/RCA/CRA/MOU) template. Where can I find them? answer: Is the template that you are requesting related to research? If yes, you may submit your request to IEP Contracting Hub  If you do not have access to IEP Contracting Hub, please contact IEP-Admin for a user account to be created. If the template that you are requested is not research related, please contact the relevant offices below: (a) Intellectual Property (IP) matters, IP agreement, Materials Transfer, outgoing Data transfer, NUS IP licences; contact Technology Transfer and Innovation office (TTI) - Contract-Admin@nus.edu.sg (b) General legal advice, non-research /academic/student related agreements, incoming data transfer (for research or otherwise), in-licensing of data/software/IP, provision of services (non-research), employment agreements; contact Office of Legal Affairs (OLA) – olasec@nus.edu.sg  (c) procurement (for research or non-research services/goods): contact central Procurement Office (CPO) – askcpo@nus.edu.sg  Please contact IEP-Admin if you have further queries.\n",
      "question: If my collaborator is from another department/school/unit/faculty in NUS, do I need an agreement? answer: No. Formal legal agreement is not required for department/school/ unit/ faculty within NUS as they are part of NUS, provided that it does not involve any external party (outside of NUS).  If there are any matters that the 2 NUS department/school/ unit/ faculty wish to agree amongst themselves, then the respective Directors or Head of Department or Dean can set out the understanding in writing via an email or letter and do not require IEP review.\n",
      "question: I am working with another professor from another NUS department/ school/unit/faculty, do I need an agreement? answer: No. Formal legal agreement is not required for department/school/ unit/ faculty within NUS as they are part of NUS, provided that it does not involve any external party (outside of NUS).  If there are any matters that the 2 NUS department/school/ unit/ faculty wish to agree amongst themselves, then the respective Directors or Head of Department or Dean can set out the understanding in writing via an email or letter and do not require IEP review.\n",
      "question: My faculty/unit is collaborating with another faculty/unit in NUS for a project. Do we need a contract or an agreement for this collaboration? answer: No. Formal legal agreement is not required for department/school/ unit/ faculty within NUS as they are part of NUS, provided that it does not involve any external party (outside of NUS).  If there are any matters that the 2 NUS department/school/ unit/ faculty wish to agree amongst themselves, then the respective Directors or Head of Department or Dean can set out the understanding in writing via an email or letter and do not require IEP review.\n",
      "question: Can there be more than one NUS Investigator for a project? answer: Yes, however for most projects, a lead investigator is to be identified as the Principal Investigator and the other investigators can be the Co-Principal Investigators.\n",
      "question: What is the difference between in-kind and cash contributions? answer: In-kind contributions – Existing resources, which may also include external grant awarded to NUS for the research project but not transferred to collaborator. Cash contributions - Cash funding to be provided to the research project or received from collaborator.\n",
      "question: Can we get the research collaboration agreement (RCA) process started before ethics or IRB approval? answer: Yes, IEP can start to draft or review the research collaboration agreement before ethics or IRB is approved. Please submit your request to IEP Contracting Hub. If you do not have access to IEP Contracting Hub, please contact IEP-Admin for a user account to be created. However, it would be preferred if IRB is approved prior to signing the agreement.\n",
      "question: Can we get the Research Collaboration Agreement (RCA) process started before the grant is awarded? answer: It is preferred for the RCA to be put in place after the grant is awarded. Please consider whether the RCA is still required if the grant is not awarded. If no, we would suggest waiting for the grant outcome. If you have received an in-principal approval of the grant, you may submit your request to IEP Contracting Hub. If you do not have access to IEP Contracting Hub, please contact IEP-Admin for a user account to be created.\n",
      "question: What is the process for signing research agreements negotiated by IEP? answer: Upon finalization of research agreement and prior to signing, the assigned IEP case officer will seek NUS management approval in accordance with NUS Policy of Approving and Signing Authority (NUS PASA).\n",
      "question: My industry collaborator would like to have a research agreement where a fee-for- service arrangement would be made, would such engagement fall under Consultation Work, or a Contract Research Agreement? answer: If the work is intended to be undertaken by you in your personal capacity as a consultant, please refer to the Consultation Work Scheme policy. NUS will not review or advise on any private consultancy agreements. Fee-for-service projects with research components to be undertaken by NUS (and not you as a private consultant) fall under Contract Research are unlikely to require significant intellectual inputs from NUS. Such projects require a minimum Indirect Research Costs (IRC) of 60%.\n",
      "question: How can I determine the Indirect Research Costs (IRC) to be applied to research funding to NUS? answer: Please refer to NUS IRC Policy for more information on applicable IRC rates for your research project\n",
      "question: What is the Indirect Research Costs (IRC) for my research project? answer: Please refer to NUS IRC Policy for more information on applicable IRC rates for your research project\n",
      "question: How long will it take for my agreements to be reviewed and signed? answer: The timeframe will vary from case to case. IEP encourages the use of NUS' templates whenever possible as a starting point for review/negotiation with your collaborator. IEP Contracting Hub\n",
      "question: What is the turnaround time for my agreements to be reviewed? answer: The timeframe will vary from case to case. IEP encourages the use of NUS' templates whenever possible as a starting point for review/negotiation with your collaborator. IEP Contracting Hub\n",
      "question: How long does it take to sign my agreements? answer: The timeframe will vary from case to case. IEP encourages the use of NUS' templates whenever possible as a starting point for review/negotiation with your collaborator. IEP Contracting Hub\n",
      "question: How can I expedite the review of my agreements? answer: The timeframe will vary from case to case. IEP encourages the use of NUS' templates whenever possible as a starting point for review/negotiation with your collaborator. IEP Contracting Hub\n",
      "question: What is IEP Contracting Hub? answer: The Contracting Hub (by Pactly) is hosted in ODPRT where PIs/researchers/faculty-admin (“Requesters”) can submit agreement requests online and provide necessary information and/or upload draft agreements received from external collaborators through Contracting Hub. In addition to submission of agreement requests, the Contracting Hub is a one-stop web portal where Requesters can: request/download for NUS standard template agreements for research; track status of all their requests for research agreements (from first request to negotiation to execution); view/download executed agreements; and get in touch with IEP directly via the Contracting Hub.\n",
      "question: How do I create an account in IEP Contracting Hub? answer: Please contact IEP-Admin for a user account to be created.\n",
      "question: Can IEP Contracting Hub be used by anyone in NUS? answer: The IEP Contracting Hub can be used by any personnel of NUS (e.g. Principal Investigator, administrators, students) except for Yong Loo Lin School of Medicine.  If your representing faculty/unit/department is within Yong Loo Lin School of Medicine, please contact IEP-Admin for further advice.\n",
      "question: Who can use IEP Contracting Hub? answer: The IEP Contracting Hub can be used by any personnel of NUS (e.g. Principal Investigator, administrators, students) except for Yong Loo Lin School of Medicine.  If your representing faculty/unit/department is within Yong Loo Lin School of Medicine, please contact IEP-Admin for further advice.\n",
      "question: What is NUS’s policy on intellectual property (IP)? answer: Please find more details related to Intellectual Property (IP) matters @ FAQs & Policies and Guidelines (nus.edu.sg)\n",
      "question: Where can I find NUS intellectual property (IP) policy? answer: Please find more details related to Intellectual Property (IP) matters @ FAQs & Policies and Guidelines (nus.edu.sg)\n",
      "question: Who do I contact if I have an invention to disclose? answer: Please contact NUS Enterprise – Technology Transfer and Innovation at Contract-Admin@nus.edu.sg if you have further queries. You may find more details @ https://nus.edu.sg/tti/for-researchers/disclosing-an-invention\n",
      "question: Who can I contact for invention disclosure? answer: Please contact NUS Enterprise – Technology Transfer and Innovation at Contract-Admin@nus.edu.sg if you have further queries. You may find more details @ https://nus.edu.sg/tti/for-researchers/disclosing-an-invention\n",
      "question: Who do I contact if there is a company interested to license or evaluate NUS’ intellectual property (IP) or technology? answer: Please contact NUS Enterprise – Technology Transfer and Innovation at Contract-Admin@nus.edu.sg.\n",
      "question: Who do I contact if I wish to start up a company using NUS' intellectual property (IP)? answer: Please contact NUS Enterprise – Technology Transfer and Innovation at Contract-Admin@nus.edu.sg.\n",
      "question: Who do I contact for materials transfer from or to another party for research purposes? answer: Please contact NUS Enterprise – Technology Transfer and Innovation at Contract-Admin@nus.edu.sg\n",
      "question: I would like to transfer materials from my collaborator for my research project, what agreement do I need? answer: Please contact NUS Enterprise – Technology Transfer and Innovation at Contract-Admin@nus.edu.sg\n",
      "question: My collaborator is transferring materials to me, what agreement do I need? answer: Please contact NUS Enterprise – Technology Transfer and Innovation at Contract-Admin@nus.edu.sg\n",
      "question: I have a material transfer agreement. who should I send for review? answer: Please contact NUS Enterprise – Technology Transfer and Innovation at Contract-Admin@nus.edu.sg\n",
      "question: Who do I contact for data transfer from or to another party for research purposes? answer: For incoming data transfer (e.g. NUS is receiving data from collaborator), please contact Office of Legal Affairs (OLA) at olasec@nus.edu.sg For outgoing data transfer (e.g. NUS is providing data to collaborator), please contact NUS Enterprise – Technology Transfer and Innovation at Contract-Admin@nus.edu.sg\n",
      "question: I would like to transfer data from my collaborator for my research project, what agreement do I need? answer: For incoming data transfer (e.g. NUS is receiving data from collaborator), please contact Office of Legal Affairs (OLA) at olasec@nus.edu.sg For outgoing data transfer (e.g. NUS is providing data to collaborator), please contact NUS Enterprise – Technology Transfer and Innovation at Contract-Admin@nus.edu.sg\n",
      "question: My collaborator is transferring data to me, what agreement do I need? answer: For incoming data transfer (e.g. NUS is receiving data from collaborator), please contact Office of Legal Affairs (OLA) at olasec@nus.edu.sg For outgoing data transfer (e.g. NUS is providing data to collaborator), please contact NUS Enterprise – Technology Transfer and Innovation at Contract-Admin@nus.edu.sg\n",
      "question: I have a data transfer agreement. who should I send for review? answer: For incoming data transfer (e.g. NUS is receiving data from collaborator), please contact Office of Legal Affairs (OLA) at olasec@nus.edu.sg For outgoing data transfer (e.g. NUS is providing data to collaborator), please contact NUS Enterprise – Technology Transfer and Innovation at Contract-Admin@nus.edu.sg\n",
      "question: Who do I contact for general legal advice? answer: Please contact Office of Legal Affairs (OLA) at olasec@nus.edu.sg\n",
      "question: Who do I contact for my service agreement? answer: Please contact Office of Legal Affairs (OLA) at olasec@nus.edu.sg\n",
      "question: Who do I contact for my consultancy agreement? answer: Please contact Office of Legal Affairs (OLA) at olasec@nus.edu.sg\n",
      "question: Who do I contact for student related matters? answer: Please contact Office of Legal Affairs (OLA) at olasec@nus.edu.sg\n",
      "question: Who do I contact for academic matters? answer: Please contact Office of Legal Affairs (OLA) at olasec@nus.edu.sg\n",
      "question: Who do I contact for non-research matters? answer: Please contact Office of Legal Affairs (OLA) at olasec@nus.edu.sg\n",
      "question: Who do I contact for incoming data transfer (for research or otherwise)? answer: Please contact Office of Legal Affairs (OLA) at olasec@nus.edu.sg\n",
      "question: Who do I contact for in-licensing of data/software/IP? answer: Please contact Office of Legal Affairs (OLA) at olasec@nus.edu.sg\n",
      "question: Who do I contact for employment agreements? answer: Please find more details related to tender @ NUS Office of Legal Affairs Homepage\n",
      "question: Who do I contact if my collaborator is providing services for my project? answer: Please contact Central Procurement Office (CPO) at askcpo@nus.edu.sg  You may find more details @https://proctor.nus.edu.sg/policy/\n",
      "question: What agreement do I need if my collaborator is providing services for my project? answer: Please contact IRB at  irb@nus.edu.sg You may find more details @ Home (nus.edu.sg)\n",
      "question: Are there any procedures involving Tenders for my project? answer: You will need ethics approval if your research project involves human subject participation and/or human tissues / cells/ use of data / health information or biological materials obtained from or pertaining to any human subject. For more information, you may refer to IRB Homepage or write to irb@nus.edu.sg.\n",
      "question: Who do I contact for advice regarding purchase or procurement services (research or otherwise) / goods / equipment or leasing for equipment for research? answer: You will need ethics approval if your research project involves human subject participation and/or human tissues / cells/ use of data / health information or biological materials obtained from or pertaining to any human subject. For more information, you may refer to IRB Homepage or write to irb@nus.edu.sg.\n",
      "question: Who can I contact for ethics approval or ethics exemption or Institutional Review Board (IRB) matters? answer: A funding agency may impose eligibility criteria that must be met by an applicant who wishes to act as the PI and/or co-PI of a proposed research project. Details on eligibility criteria are outlined in the grant call guidelines. Typically, the major grant agencies (MOE, NRF, NMRC, A*STAR) require PIs and co-PIs to be “full-time faculty” of NUS. “Full-time faculty” are those who hold appointments and perform duties at NUS for a minimum of 9 months a year. Additional clearance from the Deputy President (Research & Technology) (DPRT) through the Director, Research Administration (DRA) is required if the applicant for PI or co-PI meets the grantor’s eligibility criteria but: Does not have a NUS* contract covering the full proposed project duration; Is a Research Track or Executive & Administrative staff (e.g. deputy director, research fellow, senior research fellow); and/or, Does not hold a full-time appointment with NUS (e.g. emeritus, adjunct and visiting staff, partial and part-time NUS appointment). *Research staff who are interested to apply for research grants should note that funding agencies require partial charging of their salaries to account for time not spent performing the research funded by the agency. For more information, please contact the officer in charge of the programme.\n",
      "question: Do I need to apply for IRB or ethics approval? answer: The Office of the Deputy President (Research & Technology) issues a monthly newsletter that lists funding opportunities available to NUS researchers. Researchers may visit NUS’ grant call portal, InfoReady, to view details of open grant calls. NUS also offers internal programmes such as Humanities and Social Science Fellowships and Start-Up Grants to help new staff kick-off and build their research base at NUS. Since many grantors strongly discourage researchers from submitting a single proposal to multiple funding agencies for funding consideration, PIs should make a calculated decision before sending in their applications. For help, please contact the officer in charge of the programme.\n",
      "question: When do I need to apply for IRB or ethics or NUS IRB? answer: All applications for external funding must be endorsed by the Department and Faculty and submitted through ODPRT. Applicants should refer closely to the Grant Call guidelines and application instructions since they may differ with each programme. In general, a complete application package should contain Research Compliances and Resources (RCR) Form Required for single stage grant calls and at the full proposal stage of two-stage grant calls Not required for Whitepaper and Letter of Intent (LOI) stage of two-stage grant calls The RCR form must be endorsed by the VDR/Director RIC/RCE. HOD support is additionally required if the applicant’s contract does not cover the proposed project duration. Research proposal, statement of research intent Other supporting documents as specified in the Grant Call Guidelines, e.g. quotations, curriculum vitae of project members, etc. All applications for external research funding must provide for IRC. A minimum rate of 30% is levied on the total direct research cost of sponsored research grants supported by public sector agencies, industry and/or other external parties. A higher rate of at least 60% of the total direct project cost is applicable to Contract Research (fee-for-service) commissioned by public sector agencies, industry and/or other external parties. PIs must ensure that the NUS External Grants Indirect Research Cost Recovery (IRC) Policy is communicated to potential external grantors/collaborators from the point of negotiations.\n",
      "question: Am I eligible to apply for a grant as PI or Co-PI? answer: Prior to submission, applicants must ensure that: The Terms & Conditions or funding agreement clauses have been reviewed and cleared with the Office of Legal Affairs and ODPRT, where required. Requests for IRC deviation, if applicable, have been submitted to ODPRT for consideration and approval. Support has been obtained from the Department, Faculty, and ODPRT. Overseas funding parties may require applicants to submit proposals via online portals. NUS is a registered entity with selected overseas grant portals. Details of registered accounts and other relevant information are shown in the table below. NUS staff who wish to submit applications via online portals for which NUS has yet to register an account with should contact ODPRT or the NUHS Research Office at least 5 working days ahead of the submission deadline to allow sufficient time for account registration and documentation processing. For assistance, please contact the officer in charge.\n",
      "question: I would like to apply for a research grant, am I eligible? answer: Research funding awarded to NUS staff and hosted by NUS may be conveyed: Through online portals and grant management systems (e.g. NRF’s IGMS, A*STAR’s iGrants, NIE ROMS, etc.) Via email in softcopy – Letter of Awards, Funding Agreements The Grant Award Letter or Funding Agreement details the Host Institution and PI/Co-PI’s responsibilities, project milestones/deliverables/key performance indicators, reporting (research performance and financial) requirements and amount of funding awarded. PIs must understand and accept the terms and conditions specified in the Award Letter/Funding Agreement as they are responsible for the overall project and management of the grant. ODPRT will guide the PI on how to go about accepting the grant. Some programmes may require the PI to scrub the approved budget before the grantor releases the formal Letter of Award. For help, please contact the officer in charge of the programme.\n",
      "question: What funding opportunities are there in NUS? answer: Once the statement of acceptance (SOA) for the award has been signed, OFN will set up the project account (WBS) in the SAP financial system within 4 working days. The project WBS will be created with the appropriate fund code and assigned the relevant expenditure General Ledger accounts according to the approved budget categories. The PI will be notified of the WBS number once it has been created. PIs may refer to the following documents: Account creation process Guidelines for Account Set-Up [ODPRT sharing slides] Guidelines for Account Creation PIs can also access iRIMS to view details of projects (iRIMS-Sponsored Projects) and financial accounts (iRIMS-Fund Manager) that they are responsible for. Account Activation Pending Compliance Upon receiving their WBS details, PIs may start the hiring process with their HR Partner and concurrently source for other project resources. PIs may only begin spending with effect from the project start date. Newly created WBS accounts are “Locked” and will only be “Activated” on the project start date subject to the PI obtaining the relevant research compliance approvals. Kindly refer to the table below for more information.\n",
      "question: I need a grant, what are the funding opportunities? answer: In consideration of the increased risk of payment defaults, PIs/Faculties/Departments/Research Institutes/Centres are required to seek advance payment from the non-government organisation either in full or in progressive stages ahead of milestone deliverables. The requirement for advance payment must be incorporated into the agreements with non-government organisations. PIs must ensure that work related to a particular milestone does not commence until NUS has received the advance payment for that milestone in full. To mitigate the risk of payment defaults, the budget reflected in project accounts created to manage grants from non-government organisations and industry funders will be based on the actual cash received from the external party. Waiver of advance payment requires the prior approval of the Deputy President (Research & Technology). Requests for such waivers must be accompanied by justifications from the PI, HOD and VDR/Centre Director. In the event of a payment default, the PI, Department and Faculty/Centre will be required to bear the costs incurred. Advance payment is not required for grants received directly (not through subawards) from the following agencies/organisations: Singapore governmental organisations (e.g. PUB, NParks, EDB, MINDEF, etc.) Singapore public sector organisations (e.g. various entities under National Health Group, SingHealth and National University Health Systems, Research Institutes under A*STAR, etc.) Charities and non-profit organisations For help, please contact the officer in charge of the programme.\n",
      "question: Where can I find grant or funding available in NUS? answer: Multiple WBS accounts for a single grant are exceptions rather than the norm. The identification of co-PI(s) in a grant proposal does not immediately justify the creation of multiple WBS accounts. The Lead PI (as named in the official Letter of Award or Funding Agreement) who wishes to request for multiple WBS accounts for better management of the grant, or to sub-award part of the main grant to co-PI(s) overseeing specific work packages must submit a formal request to Director, Research Administration, ODPRT, through the Department and VDR/Director. The request must discuss the following in detail: What is the impact in terms of administrative ease for both the PI and administrators? What is the feasible arrangement proposed by the PI to ensure a real reduction in administrative effort for both PIs and administrators? What is the PI's proposed workflow and formalised procedure to mitigate risk and ensure proper monitoring of funds to guard against unauthorised use? How will PI maintain overall control over fund utilisation for all WBS accounts to ensure expenses adhere to the T&Cs of the grantor and Agreement? Only requests that are strongly supported by the Faculty/RIC/RCE and have addressed all relevant areas will be assessed. Note that if the grantor declines to reimburse NUS for expenses incurred due to violation of the grant’s terms and conditions, the PI and/or host Department/Faculty/RIC/RCE may be required to bear the cost of the rejected claims. PIs are reminded that they are fully accountable for the overall project and utilisation of the total grants awarded. This duty does not diminish with the sub-division of the grant and PIs are responsible for the entire grant, including the portions sub-awarded to their co-PI(s). Research grants awarded for a single project administered in multiple WBS accounts are governed by the same terms & conditions and remain the sole responsibility of the PI who accepted the grant. For help, please contact the officer in charge of the programme.\n",
      "question: How to apply for external funding? answer: PIs are required to submit annual progress reports to grantors to update them on the progress of their research. PIs should refer to the respective grant programme for the details and form in which these are submitted.\n",
      "question: What are the requirements to apply for external funding? answer: A mitigation plan is required for PIs/Co-PIs/Co-Is going on leave of any type (or combination of types) for more than 3 months, whether the staff is based in Singapore, overseas, or a combination of both during the leave period. Only one mitigation plan shall be submitted for each staff. Each plan should outline the arrangements put in place for all active research projects/grants held by the staff. HOD and VDR/Director are required to provide their assessment and endorsement of the arrangements made by the PI/Co-PI/Co-I to ensure minimal disruption to the performance and progress of the sponsored research. The mitigation plan should reach ODPRT as soon as the staff has expressed their intent to go on extended leave, or 4 months prior to the start of the leave, whichever reasonably practicable. The mitigation plan can be downloaded from here. For help, please contact the officer in charge of the programme.\n",
      "question: What do I need to take note of when applying for external funding? answer: Staff who are leaving NUS are required to complete a checklist for all research projects ongoing and completed within the last 6 months. The checklist is to ensure that the staff has taken the necessary actions such as the handover of ongoing projects, transfer of staff/student supervisory obligations, and closure of research protocols prior to their departure from the University. Outbound staff should notify the relevant research compliance office (IRB, DERC, IACUC, CM) prior to their departure to ensure smooth transition/closure of protocols. For project transfer cases, the WBSes may be “Locked” to prevent further transactions until formal approval has been obtained from the funding agency for the change in PI or transfer of the project to another institution. Checklists should be cleared by the HOD (or nominee) prior to submission to the Office of Human Resources, copied to ODPRT, VDR and NUS Enterprise. The requirement for submission of the Handover Checklist is incorporated into OHR’s Notes for Staff Leaving Service located in the NUS Staff Intranet. For help, please contact the officer in charge of the programme.\n"
     ]
    }
   ],
   "source": [
    "import pickle\n",
    "\n",
    "# Load the pickle file\n",
    "with open(\"/Users/lishuyao/Documents/NUS/MODS/Y3S2/Capstone/ODPRT-chatbot/data_pkl/faq_qa_pairs.pkl\", \"rb\") as file:\n",
    "    data = pickle.load(file)\n",
    "print(len(data))\n",
    "# Print or use the data\n",
    "for i in data:\n",
    "    print(i)\n"
   ]
  },
  {
   "cell_type": "code",
   "execution_count": 7,
   "metadata": {},
   "outputs": [],
   "source": [
    "from docx import Document\n",
    "\n",
    "def extract_qa_pairs(doc_path):\n",
    "    doc = Document(doc_path)\n",
    "    qa_pairs = []\n",
    "    question = None\n",
    "    answer = None\n",
    "\n",
    "    for para in doc.paragraphs:\n",
    "        text = para.text.strip()\n",
    "        if text.lower().startswith(\"question\"):\n",
    "            if question and answer:\n",
    "                qa_pairs.append((question, answer.strip()))\n",
    "                print(question)\n",
    "                print(answer)\n",
    "            question = None\n",
    "            answer = None\n",
    "        elif question is None:\n",
    "            question = text\n",
    "        else:\n",
    "            if answer is None:\n",
    "                answer = text\n",
    "            else:\n",
    "                answer += \" \" + text\n",
    "\n",
    "    # Append last pair\n",
    "    if question and answer:\n",
    "        qa_pairs.append((question, answer.strip()))\n",
    "\n",
    "    return qa_pairs\n",
    "\n",
    "# Path to your uploaded file\n",
    "file_path = \"/Users/lishuyao/Documents/NUS/MODS/Y3S2/Capstone/ODPRT-chatbot/docs/Additional ODPRT unit FAQ.docx\"\n"
   ]
  },
  {
   "cell_type": "code",
   "execution_count": 10,
   "metadata": {},
   "outputs": [],
   "source": [
    "def extract_faq(file):\n",
    "        \"\"\"Extracts text from a Word document.\"\"\"\n",
    "        full_text = []\n",
    "        doc = Document(file)\n",
    "\n",
    "        for para in doc.paragraphs:\n",
    "            full_text.append(para.text)\n",
    "\n",
    "        for table in doc.tables:\n",
    "            for row in table.rows:\n",
    "                row_text = [cell.text.strip() for cell in row.cells]\n",
    "                full_text.append(\"\\t\".join(row_text))\n",
    "\n",
    "        return '\\n'.join(full_text)\n",
    "\n",
    "text = extract_faq(\"/Users/lishuyao/Documents/NUS/MODS/Y3S2/Capstone/ODPRT-chatbot/docs/Additional ODPRT unit FAQ.docx\")"
   ]
  },
  {
   "cell_type": "code",
   "execution_count": null,
   "metadata": {},
   "outputs": [
    {
     "ename": "SyntaxError",
     "evalue": "f-string: expecting '}' (2399929847.py, line 28)",
     "output_type": "error",
     "traceback": [
      "\u001b[0;36m  Cell \u001b[0;32mIn[14], line 28\u001b[0;36m\u001b[0m\n\u001b[0;31m    qa_pairs.append((f\"question: {question}, answer: {\" \".join(answer).strip()}\"))\u001b[0m\n\u001b[0m                                                                                ^\u001b[0m\n\u001b[0;31mSyntaxError\u001b[0m\u001b[0;31m:\u001b[0m f-string: expecting '}'\n"
     ]
    }
   ],
   "source": [
    "def extract_qa_pairs_from_text(text):\n",
    "    # Split the text into lines\n",
    "    lines = text.split(\"\\n\")\n",
    "\n",
    "    qa_pairs = []\n",
    "    question = None\n",
    "    answer = []\n",
    "\n",
    "    for line in lines:\n",
    "        line = line.strip()\n",
    "\n",
    "        # Identify questions (lines that start with 'Question' or contain '?')\n",
    "        if line.lower().startswith(\"question\") or line.endswith(\"?\"):\n",
    "            # Store previous Q&A pair\n",
    "            if question and answer:\n",
    "                qa_pairs.append((question, \" \".join(answer).strip()))\n",
    "            \n",
    "            # Reset for new question\n",
    "            question = line.replace(\"Question\", \"\").strip()\n",
    "            answer = []\n",
    "        elif line.lower().startswith(\"answer\"):\n",
    "            continue  # Skip explicit \"Answer\" lines\n",
    "        elif question:\n",
    "            answer.append(line)\n",
    "\n",
    "    # Store the last Q&A pair\n",
    "    if question and answer:\n",
    "        answer = \" \".join(answer).strip()\n",
    "        qa_pairs.append(f\"question: {question}, answer: {answer}\")\n",
    "\n",
    "    return qa_pairs\n",
    "\n",
    "qa_pairs = extract_qa_pairs_from_text(text)\n",
    "print(qa_pairs)"
   ]
  }
 ],
 "metadata": {
  "kernelspec": {
   "display_name": "Python 3",
   "language": "python",
   "name": "python3"
  },
  "language_info": {
   "codemirror_mode": {
    "name": "ipython",
    "version": 3
   },
   "file_extension": ".py",
   "mimetype": "text/x-python",
   "name": "python",
   "nbconvert_exporter": "python",
   "pygments_lexer": "ipython3",
   "version": "3.9.21"
  }
 },
 "nbformat": 4,
 "nbformat_minor": 2
}
