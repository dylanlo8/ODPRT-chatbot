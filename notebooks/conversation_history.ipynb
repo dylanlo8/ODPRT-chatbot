{
 "cells": [
  {
   "cell_type": "code",
   "execution_count": 3,
   "metadata": {},
   "outputs": [],
   "source": [
    "import os\n",
    "from supabase import create_client, Client\n",
    "\n",
    "url: str = os.environ.get(\"SUPABASE_URL\")\n",
    "key: str = os.environ.get(\"SUPABASE_KEY\")\n",
    "supabase: Client = create_client(url, key)"
   ]
  },
  {
   "cell_type": "markdown",
   "metadata": {},
   "source": [
    "The goal is to be able to\n",
    "1. Store conversation and message history for each user in the database\n",
    "2. Store the rating and feedback for each conversation\n",
    "3. Be able to update the rating and feedback for each conversation\n",
    "4. Be able to query the conversation and message history for a particular user\n",
    "\n"
   ]
  },
  {
   "cell_type": "code",
   "execution_count": null,
   "metadata": {},
   "outputs": [],
   "source": [
    "create_table_query = \"\"\"\n",
    "CREATE TABLE conversations (\n",
    "    conversation_id UUID PRIMARY KEY DEFAULT gen_random_uuid(),\n",
    "    user_id UUID NOT NULL,\n",
    "    is_guest BOOLEAN DEFAULT FALSE,\n",
    "    created_at TIMESTAMP DEFAULT NOW(),\n",
    "    updated_at TIMESTAMP DEFAULT NOW(),\n",
    "    rating INTEGER CHECK (rating BETWEEN 1 AND 5),\n",
    "    feedback TEXT\n",
    ");\n",
    "\n",
    "CREATE TABLE messages (\n",
    "    message_id UUID PRIMARY KEY DEFAULT gen_random_uuid(),\n",
    "    conversation_id UUID REFERENCES conversations(conversation_id) ON DELETE CASCADE,\n",
    "    sender VARCHAR(10) CHECK (sender IN ('user', 'bot')),\n",
    "    text TEXT NOT NULL,\n",
    "    timestamp TIMESTAMP DEFAULT NOW()\n",
    ");\n",
    "\"\"\""
   ]
  },
  {
   "cell_type": "code",
   "execution_count": 12,
   "metadata": {},
   "outputs": [],
   "source": [
    "# Bulk Insertion of Messages\n",
    "def bulk_insert_messages(messages: list[dict]) -> dict:\n",
    "    try:\n",
    "        response = supabase.table(\"messages\").insert(messages).execute()\n",
    "        return response\n",
    "    except Exception as exception:\n",
    "        return exception\n",
    "    \n",
    "# Bulk Insertion of Conversations\n",
    "def bulk_insert_conversations(conversations: list[dict]) -> dict:\n",
    "    try:\n",
    "        response = supabase.table(\"conversations\").insert(conversations).execute()\n",
    "        return response\n",
    "    except Exception as exception:\n",
    "        return exception"
   ]
  },
  {
   "cell_type": "code",
   "execution_count": 40,
   "metadata": {},
   "outputs": [],
   "source": [
    "sample_messages = [\n",
    "    {\n",
    "        \"conversation_id\": \"123e4567-e89b-12d3-a456-426614174000\",\n",
    "        \"sender\": \"user\",\n",
    "        \"text\": \"How do I implement a binary search tree in Python?\",\n",
    "        \"timestamp\": \"2024-01-15T10:30:00Z\"\n",
    "    },\n",
    "    {\n",
    "        \"conversation_id\": \"123e4567-e89b-12d3-a456-426614174000\", \n",
    "        \"sender\": \"bot\",\n",
    "        \"text\": \"I'll help you implement a binary search tree in Python. First, let's create a Node class to represent each node in the tree...\",\n",
    "        \"timestamp\": \"2024-01-15T10:30:05Z\"\n",
    "    },\n",
    "    {\n",
    "        \"conversation_id\": \"123e4567-e89b-12d3-a456-426614174001\",\n",
    "        \"sender\": \"user\",\n",
    "        \"text\": \"What are the best practices for error handling in FastAPI?\",\n",
    "        \"timestamp\": \"2024-01-15T11:15:00Z\"\n",
    "    },\n",
    "    {\n",
    "        \"conversation_id\": \"123e4567-e89b-12d3-a456-426614174001\",\n",
    "        \"sender\": \"bot\",\n",
    "        \"text\": \"For error handling in FastAPI, there are several best practices you should follow: 1. Use HTTPException for API errors...\",\n",
    "        \"timestamp\": \"2024-01-15T11:15:10Z\"\n",
    "    }\n",
    "]\n",
    "\n",
    "sample_conversations = [\n",
    "    {\n",
    "        \"conversation_id\": \"123e4567-e89b-12d3-a456-426614174000\",\n",
    "        \"user_id\": \"a0eebc999c0b4ef8bb6d6bb9bd380a11\",\n",
    "        \"created_at\": \"2024-01-15T10:45:00Z\",\n",
    "        \"updated_at\": \"2024-01-15T10:45:00Z\",\n",
    "        \"is_guest\": False,\n",
    "        \"rating\": 4,\n",
    "        \"feedback\": \"Great conversation!\"\n",
    "    },\n",
    "    {\n",
    "        \"conversation_id\": \"123e4567-e89b-12d3-a456-426614174001\",\n",
    "        \"user_id\": \"a0eebc999c0b4ef8bb6d6bb9bd380a11\",\n",
    "        \"created_at\": \"2024-01-15T10:30:00Z\",\n",
    "        \"updated_at\": \"2024-01-15T10:30:00Z\",\n",
    "        \"is_guest\": True,\n",
    "        \"rating\": 5,\n",
    "    }\n",
    "]\n"
   ]
  },
  {
   "cell_type": "code",
   "execution_count": 41,
   "metadata": {},
   "outputs": [
    {
     "data": {
      "text/plain": [
       "APIResponse[~_ReturnT](data=[{'conversation_id': '123e4567-e89b-12d3-a456-426614174000', 'user_id': 'a0eebc99-9c0b-4ef8-bb6d-6bb9bd380a11', 'is_guest': False, 'created_at': '2024-01-15T10:45:00', 'updated_at': '2024-01-15T10:45:00', 'rating': 4, 'feedback': 'Great conversation!'}, {'conversation_id': '123e4567-e89b-12d3-a456-426614174001', 'user_id': 'a0eebc99-9c0b-4ef8-bb6d-6bb9bd380a11', 'is_guest': True, 'created_at': '2024-01-15T10:30:00', 'updated_at': '2024-01-15T10:30:00', 'rating': 5, 'feedback': None}], count=None)"
      ]
     },
     "execution_count": 41,
     "metadata": {},
     "output_type": "execute_result"
    }
   ],
   "source": [
    "bulk_insert_conversations(sample_conversations)"
   ]
  },
  {
   "cell_type": "code",
   "execution_count": 42,
   "metadata": {},
   "outputs": [
    {
     "data": {
      "text/plain": [
       "APIResponse[~_ReturnT](data=[{'message_id': 'f439799b-1930-403a-baa6-8b68d1d60d56', 'conversation_id': '123e4567-e89b-12d3-a456-426614174000', 'sender': 'user', 'text': 'How do I implement a binary search tree in Python?', 'timestamp': '2024-01-15T10:30:00'}, {'message_id': '7b665f97-c4d2-4e13-a480-7ede03d3a3a0', 'conversation_id': '123e4567-e89b-12d3-a456-426614174000', 'sender': 'bot', 'text': \"I'll help you implement a binary search tree in Python. First, let's create a Node class to represent each node in the tree...\", 'timestamp': '2024-01-15T10:30:05'}, {'message_id': 'c63f0944-837e-49e8-91ab-61d4ce1fc92d', 'conversation_id': '123e4567-e89b-12d3-a456-426614174001', 'sender': 'user', 'text': 'What are the best practices for error handling in FastAPI?', 'timestamp': '2024-01-15T11:15:00'}, {'message_id': 'f5969332-80d2-4b93-b3b7-c6a8532d1d36', 'conversation_id': '123e4567-e89b-12d3-a456-426614174001', 'sender': 'bot', 'text': 'For error handling in FastAPI, there are several best practices you should follow: 1. Use HTTPException for API errors...', 'timestamp': '2024-01-15T11:15:10'}], count=None)"
      ]
     },
     "execution_count": 42,
     "metadata": {},
     "output_type": "execute_result"
    }
   ],
   "source": [
    "bulk_insert_messages(sample_messages)"
   ]
  },
  {
   "cell_type": "code",
   "execution_count": 43,
   "metadata": {},
   "outputs": [],
   "source": [
    "def get_user_conversations(user_id: str) -> dict:\n",
    "    \"\"\"\n",
    "    Retrieve all conversations for a specific user. Sorted by created_at in descending order.\n",
    "    \n",
    "    Args:\n",
    "        user_id (str): The UUID of the user\n",
    "        \n",
    "    Returns:\n",
    "        dict: API response containing the conversations\n",
    "    \"\"\"\n",
    "    try:\n",
    "        response = (\n",
    "            supabase.table(\"conversations\")\n",
    "            .select(\"*\")\n",
    "            .eq(\"user_id\", user_id)\n",
    "            .order(\"created_at\", desc=True)\n",
    "            .execute()\n",
    "        )\n",
    "        return response\n",
    "    except Exception as exception:\n",
    "        return exception\n",
    "\n",
    "def get_conversation_messages(conversation_id: str) -> dict:\n",
    "    \"\"\"\n",
    "    Retrieve all messages for a specific conversation.\n",
    "    \n",
    "    Args:\n",
    "        conversation_id (str): The UUID of the conversation\n",
    "        \n",
    "    Returns:\n",
    "        dict: API response containing the messages\n",
    "    \"\"\"\n",
    "    try:\n",
    "        response = (\n",
    "            supabase.table(\"messages\")\n",
    "            .select(\"*\")\n",
    "            .eq(\"conversation_id\", conversation_id)\n",
    "            .execute()\n",
    "        )\n",
    "        return response\n",
    "    except Exception as exception:\n",
    "        return exception\n",
    "\n",
    "# Example usage:\n",
    "user_convos = get_user_conversations(\"a0eebc999c0b4ef8bb6d6bb9bd380a11\")\n",
    "convo_messages = get_conversation_messages(\"123e4567-e89b-12d3-a456-426614174000\")"
   ]
  },
  {
   "cell_type": "code",
   "execution_count": 44,
   "metadata": {},
   "outputs": [
    {
     "data": {
      "text/plain": [
       "[{'conversation_id': '123e4567-e89b-12d3-a456-426614174000',\n",
       "  'user_id': 'a0eebc99-9c0b-4ef8-bb6d-6bb9bd380a11',\n",
       "  'is_guest': False,\n",
       "  'created_at': '2024-01-15T10:45:00',\n",
       "  'updated_at': '2024-01-15T10:45:00',\n",
       "  'rating': 4,\n",
       "  'feedback': 'Great conversation!'},\n",
       " {'conversation_id': '123e4567-e89b-12d3-a456-426614174001',\n",
       "  'user_id': 'a0eebc99-9c0b-4ef8-bb6d-6bb9bd380a11',\n",
       "  'is_guest': True,\n",
       "  'created_at': '2024-01-15T10:30:00',\n",
       "  'updated_at': '2024-01-15T10:30:00',\n",
       "  'rating': 5,\n",
       "  'feedback': None}]"
      ]
     },
     "execution_count": 44,
     "metadata": {},
     "output_type": "execute_result"
    }
   ],
   "source": [
    "user_convos.data"
   ]
  },
  {
   "cell_type": "code",
   "execution_count": 45,
   "metadata": {},
   "outputs": [
    {
     "data": {
      "text/plain": [
       "[{'message_id': 'f439799b-1930-403a-baa6-8b68d1d60d56',\n",
       "  'conversation_id': '123e4567-e89b-12d3-a456-426614174000',\n",
       "  'sender': 'user',\n",
       "  'text': 'How do I implement a binary search tree in Python?',\n",
       "  'timestamp': '2024-01-15T10:30:00'},\n",
       " {'message_id': '7b665f97-c4d2-4e13-a480-7ede03d3a3a0',\n",
       "  'conversation_id': '123e4567-e89b-12d3-a456-426614174000',\n",
       "  'sender': 'bot',\n",
       "  'text': \"I'll help you implement a binary search tree in Python. First, let's create a Node class to represent each node in the tree...\",\n",
       "  'timestamp': '2024-01-15T10:30:05'}]"
      ]
     },
     "execution_count": 45,
     "metadata": {},
     "output_type": "execute_result"
    }
   ],
   "source": [
    "convo_messages.data"
   ]
  },
  {
   "cell_type": "code",
   "execution_count": 47,
   "metadata": {},
   "outputs": [],
   "source": [
    "def update_conversation_feedback(conversation_id: str, feedback: str) -> dict:\n",
    "    \"\"\"\n",
    "    Update the feedback for a specific conversation.\n",
    "    \n",
    "    Args:\n",
    "        conversation_id (str): The UUID of the conversation\n",
    "        feedback (str): The feedback text to update\n",
    "        \n",
    "    Returns:\n",
    "        dict: API response after updating the feedback\n",
    "    \"\"\"\n",
    "    try:\n",
    "        response = (\n",
    "            supabase.table(\"conversations\")\n",
    "            .update({\"feedback\": feedback})\n",
    "            .eq(\"conversation_id\", conversation_id)\n",
    "            .execute()\n",
    "        )\n",
    "        return response\n",
    "    except Exception as exception:\n",
    "        return exception"
   ]
  },
  {
   "cell_type": "code",
   "execution_count": 48,
   "metadata": {},
   "outputs": [
    {
     "data": {
      "text/plain": [
       "APIResponse[~_ReturnT](data=[{'conversation_id': '123e4567-e89b-12d3-a456-426614174001', 'user_id': 'a0eebc99-9c0b-4ef8-bb6d-6bb9bd380a11', 'is_guest': True, 'created_at': '2024-01-15T10:30:00', 'updated_at': '2024-01-15T10:30:00', 'rating': 5, 'feedback': 'Bot does not perform well!'}], count=None)"
      ]
     },
     "execution_count": 48,
     "metadata": {},
     "output_type": "execute_result"
    }
   ],
   "source": [
    "update_conversation_feedback(\"123e4567-e89b-12d3-a456-426614174001\", \"Bot does not perform well!\")"
   ]
  },
  {
   "cell_type": "code",
   "execution_count": 50,
   "metadata": {},
   "outputs": [],
   "source": [
    "def update_conversation_rating(conversation_id: str, rating: str) -> dict:\n",
    "    \"\"\"\n",
    "    Update the feedback for a specific conversation.\n",
    "    \n",
    "    Args:\n",
    "        conversation_id (str): The UUID of the conversation\n",
    "        feedback (int): 1 to 5 star ratings for the conversation\n",
    "        \n",
    "    Returns:\n",
    "        dict: API response after updating the feedback\n",
    "    \"\"\"\n",
    "    try:\n",
    "        response = (\n",
    "            supabase.table(\"conversations\")\n",
    "            .update({\"rating\": rating})\n",
    "            .eq(\"conversation_id\", conversation_id)\n",
    "            .execute()\n",
    "        )\n",
    "        return response\n",
    "    except Exception as exception:\n",
    "        return exception"
   ]
  },
  {
   "cell_type": "code",
   "execution_count": 51,
   "metadata": {},
   "outputs": [
    {
     "data": {
      "text/plain": [
       "APIResponse[~_ReturnT](data=[{'conversation_id': '123e4567-e89b-12d3-a456-426614174001', 'user_id': 'a0eebc99-9c0b-4ef8-bb6d-6bb9bd380a11', 'is_guest': True, 'created_at': '2024-01-15T10:30:00', 'updated_at': '2024-01-15T10:30:00', 'rating': 1, 'feedback': 'Bot does not perform well!'}], count=None)"
      ]
     },
     "execution_count": 51,
     "metadata": {},
     "output_type": "execute_result"
    }
   ],
   "source": [
    "update_conversation_rating(\"123e4567-e89b-12d3-a456-426614174001\", 1)"
   ]
  },
  {
   "cell_type": "code",
   "execution_count": 52,
   "metadata": {},
   "outputs": [],
   "source": [
    "def delete_conversation(conversation_id: str) -> dict:\n",
    "    \"\"\"\n",
    "    Delete a specific conversation.\n",
    "    \n",
    "    Args:\n",
    "        conversation_id (str): The UUID of the conversation\n",
    "    \n",
    "    Returns:\n",
    "        dict: API response after deleting the conversation\n",
    "    \"\"\"\n",
    "    try:            \n",
    "        response = (\n",
    "            supabase.table(\"conversations\")\n",
    "            .delete()\n",
    "            .eq(\"conversation_id\", conversation_id)\n",
    "            .execute()\n",
    "        )\n",
    "        return response\n",
    "    except Exception as exception:\n",
    "        return exception"
   ]
  },
  {
   "cell_type": "code",
   "execution_count": 53,
   "metadata": {},
   "outputs": [
    {
     "data": {
      "text/plain": [
       "APIResponse[~_ReturnT](data=[{'conversation_id': '123e4567-e89b-12d3-a456-426614174001', 'user_id': 'a0eebc99-9c0b-4ef8-bb6d-6bb9bd380a11', 'is_guest': True, 'created_at': '2024-01-15T10:30:00', 'updated_at': '2024-01-15T10:30:00', 'rating': 1, 'feedback': 'Bot does not perform well!'}], count=None)"
      ]
     },
     "execution_count": 53,
     "metadata": {},
     "output_type": "execute_result"
    }
   ],
   "source": [
    "delete_conversation(\"123e4567-e89b-12d3-a456-426614174001\")"
   ]
  },
  {
   "cell_type": "code",
   "execution_count": null,
   "metadata": {},
   "outputs": [],
   "source": []
  }
 ],
 "metadata": {
  "kernelspec": {
   "display_name": "odprt",
   "language": "python",
   "name": "python3"
  },
  "language_info": {
   "codemirror_mode": {
    "name": "ipython",
    "version": 3
   },
   "file_extension": ".py",
   "mimetype": "text/x-python",
   "name": "python",
   "nbconvert_exporter": "python",
   "pygments_lexer": "ipython3",
   "version": "3.9.21"
  }
 },
 "nbformat": 4,
 "nbformat_minor": 2
}
