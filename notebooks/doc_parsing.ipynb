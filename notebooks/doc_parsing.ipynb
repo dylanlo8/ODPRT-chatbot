{
 "cells": [
  {
   "cell_type": "markdown",
   "metadata": {},
   "source": [
    "## 2 Functions\n",
    "1. `parse_for_ingestion`: Parsing for ingestion (more specific and intentional)\n",
    "2. `parse_user_files`: Parsing for user routing (general, not as important)"
   ]
  },
  {
   "cell_type": "code",
   "execution_count": 1,
   "metadata": {},
   "outputs": [],
   "source": [
    "def parse_for_ingestion():\n",
    "    pass"
   ]
  },
  {
   "cell_type": "code",
   "execution_count": 2,
   "metadata": {},
   "outputs": [],
   "source": [
    "def parse_user_files(fname):\n",
    "    # handle different file types\n",
    "    if fname.endswith('.csv'):\n",
    "        pass\n",
    "    elif fname.endswith('.xml'):\n",
    "        pass\n",
    "    elif fname.endswith('.pptx'):\n",
    "        pass\n",
    "    elif fname.endswith('.docx'):\n",
    "        pass\n",
    "    elif fname.endswith('.pdf'):\n",
    "        pass\n",
    "    elif fname.endswith('.txt'):\n",
    "        pass"
   ]
  },
  {
   "cell_type": "code",
   "execution_count": null,
   "metadata": {},
   "outputs": [],
   "source": []
  }
 ],
 "metadata": {
  "kernelspec": {
   "display_name": "odprt",
   "language": "python",
   "name": "python3"
  },
  "language_info": {
   "codemirror_mode": {
    "name": "ipython",
    "version": 3
   },
   "file_extension": ".py",
   "mimetype": "text/x-python",
   "name": "python",
   "nbconvert_exporter": "python",
   "pygments_lexer": "ipython3",
   "version": "3.9.21"
  }
 },
 "nbformat": 4,
 "nbformat_minor": 2
}
