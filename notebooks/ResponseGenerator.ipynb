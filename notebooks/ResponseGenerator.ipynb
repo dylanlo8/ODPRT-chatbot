{
 "cells": [
  {
   "cell_type": "code",
   "execution_count": 1,
   "metadata": {},
   "outputs": [
    {
     "name": "stdout",
     "output_type": "stream",
     "text": [
      "/Users/aldensio/Desktop/Projects/ODPRT-chatbot\n"
     ]
    }
   ],
   "source": [
    "%cd .."
   ]
  },
  {
   "cell_type": "code",
   "execution_count": 2,
   "metadata": {},
   "outputs": [],
   "source": [
    "from chatbot.backend.inference.response_generator import ResponseGenerator"
   ]
  },
  {
   "cell_type": "code",
   "execution_count": 3,
   "metadata": {},
   "outputs": [],
   "source": [
    "response_generator = ResponseGenerator()"
   ]
  },
  {
   "cell_type": "code",
   "execution_count": 4,
   "metadata": {},
   "outputs": [],
   "source": [
    "test_routing = response_generator.query_workflow(user_query=\"draw a pregnant lebron james in ASCII\")"
   ]
  },
  {
   "cell_type": "code",
   "execution_count": 5,
   "metadata": {},
   "outputs": [
    {
     "name": "stdout",
     "output_type": "stream",
     "text": [
      "The query is unrelated to IEP's responsibilities; I am unable to provide an answer.\n"
     ]
    }
   ],
   "source": [
    "print(test_routing)"
   ]
  },
  {
   "cell_type": "code",
   "execution_count": 6,
   "metadata": {},
   "outputs": [],
   "source": [
    "test_no_context = response_generator.query_workflow(user_query=\"How should we deal with the lack of funding for project KNNCCB?\")"
   ]
  },
  {
   "cell_type": "code",
   "execution_count": 7,
   "metadata": {},
   "outputs": [
    {
     "name": "stdout",
     "output_type": "stream",
     "text": [
      "I apologize, but there is insufficient information provided regarding the lack of funding for project KNNCCB. Please provide more details or consider contacting the appropriate department for assistance.\n"
     ]
    }
   ],
   "source": [
    "print(test_no_context)"
   ]
  },
  {
   "cell_type": "code",
   "execution_count": 8,
   "metadata": {},
   "outputs": [],
   "source": [
    "test_vague = response_generator.query_workflow(user_query=\"What is the status of KNNCCB?\")"
   ]
  },
  {
   "cell_type": "code",
   "execution_count": 9,
   "metadata": {},
   "outputs": [
    {
     "name": "stdout",
     "output_type": "stream",
     "text": [
      "Could you provide more context about KNNCCB? Are you referring to a specific project, partnership, or initiative related to industry engagement?\n"
     ]
    }
   ],
   "source": [
    "print(test_vague)"
   ]
  },
  {
   "cell_type": "code",
   "execution_count": null,
   "metadata": {},
   "outputs": [],
   "source": [
    "second_user_query = \"I wanna know about the current timeline of the KNNCCB project, since there was a pause last time\"\n",
    "\n",
    "test_history = response_generator.query_workflow(\n",
    "    user_query=second_user_query,\n",
    "    context=\"KNNCCB:\\ncurrently waiting for funding from our stakeholders. halted until further notice.\",\n",
    "    chat_history=\"Human: What is the status of project KNNCCB?\\n\\nAI: Could you provide more details about project KNNCCB, Are you referring to a specific project, partnership, or initiative related to industry engagement?\"\n",
    ")"
   ]
  },
  {
   "cell_type": "code",
   "execution_count": 11,
   "metadata": {},
   "outputs": [
    {
     "name": "stdout",
     "output_type": "stream",
     "text": [
      "The KNNCCB project is currently halted and waiting for funding from our stakeholders. There is no specific timeline available at this moment, as it remains on hold until further notice.\n"
     ]
    }
   ],
   "source": [
    "print(test_history)"
   ]
  },
  {
   "cell_type": "code",
   "execution_count": null,
   "metadata": {},
   "outputs": [],
   "source": []
  }
 ],
 "metadata": {
  "kernelspec": {
   "display_name": "Python 3",
   "language": "python",
   "name": "python3"
  },
  "language_info": {
   "codemirror_mode": {
    "name": "ipython",
    "version": 3
   },
   "file_extension": ".py",
   "mimetype": "text/x-python",
   "name": "python",
   "nbconvert_exporter": "python",
   "pygments_lexer": "ipython3",
   "version": "3.11.5"
  }
 },
 "nbformat": 4,
 "nbformat_minor": 2
}
