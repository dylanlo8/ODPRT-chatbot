{
 "cells": [
  {
   "cell_type": "code",
   "execution_count": null,
   "metadata": {},
   "outputs": [],
   "source": []
  },
  {
   "cell_type": "code",
   "execution_count": 51,
   "metadata": {},
   "outputs": [
    {
     "name": "stdout",
     "output_type": "stream",
     "text": [
      "Inserting Conversation Response\n",
      "{'data': [{'conversation_id': '123e4567-e89b-12d3-a456-426614174000', 'user_id': '123e4567-e89b-12d3-a456-426614174000', 'conversation_title': 'Sample Conversation', 'created_at': '2025-03-15T08:29:52.996305', 'updated_at': '2025-03-15T08:29:52.996305', 'rating': None, 'feedback': None}], 'count': None}\n",
      "Get User Conversation Response\n",
      "{'data': [{'conversation_id': '123e4567-e89b-12d3-a456-426614174000', 'user_id': '123e4567-e89b-12d3-a456-426614174000', 'conversation_title': 'Sample Conversation', 'created_at': '2025-03-15T08:29:52.996305', 'updated_at': '2025-03-15T08:29:52.996305', 'rating': None, 'feedback': None}], 'count': None}\n",
      "Inserting Message\n",
      "{'data': [{'message_id': '58298043-8f70-410b-982d-9ffa58bdb092', 'conversation_id': '123e4567-e89b-12d3-a456-426614174000', 'sender': 'user', 'text': 'Hello, how can I help you thanks?', 'is_useful': None, 'created_at': '2025-03-15T08:29:53.163697'}], 'count': None}\n",
      "Get Conversation Message Response\n",
      "{'data': [{'message_id': '58298043-8f70-410b-982d-9ffa58bdb092', 'conversation_id': '123e4567-e89b-12d3-a456-426614174000', 'sender': 'user', 'text': 'Hello, how can I help you thanks?', 'is_useful': None, 'created_at': '2025-03-15T08:29:53.163697'}], 'count': None}\n",
      "Update Conversation Rating Response\n",
      "{'data': [{'conversation_id': '123e4567-e89b-12d3-a456-426614174000', 'user_id': '123e4567-e89b-12d3-a456-426614174000', 'conversation_title': 'Sample Conversation', 'created_at': '2025-03-15T08:29:52.996305', 'updated_at': '2025-03-15T08:29:52.996305', 'rating': 5, 'feedback': 'This was an excellent conversation.'}], 'count': None}\n",
      "Deleting Conversation Response\n"
     ]
    }
   ],
   "source": [
    "import requests\n",
    "import json\n",
    "\n",
    "BASE_URL = \"http://localhost:8000\"\n",
    "\n",
    "def get_user_conversations(user_id):\n",
    "    url = f\"{BASE_URL}/users/{user_id}/conversations\"\n",
    "    response = requests.get(url)\n",
    "    return response.json()\n",
    "\n",
    "def get_conversation_messages(conversation_id):\n",
    "    url = f\"{BASE_URL}/conversations/{conversation_id}/messages\"\n",
    "    response = requests.get(url)\n",
    "    return response.json()\n",
    "\n",
    "def insert_conversation(conversation_id, user_id, conversation_title):\n",
    "    url = f\"{BASE_URL}/conversations/insert\"\n",
    "    payload = {\n",
    "        \"conversation_id\": conversation_id,\n",
    "        \"user_id\": user_id,\n",
    "        \"conversation_title\": conversation_title\n",
    "    }\n",
    "    headers = {\"Content-Type\": \"application/json\"}\n",
    "    response = requests.post(url, data=json.dumps(payload), headers=headers)\n",
    "    return response.json()\n",
    "\n",
    "def delete_conversation(conversation_id):\n",
    "    url = f\"{BASE_URL}/conversations/{conversation_id}\"\n",
    "    response = requests.delete(url)\n",
    "    return response.json()\n",
    "\n",
    "def update_conversation_rating(conversation_id, rating, text):\n",
    "    url = f\"{BASE_URL}/conversations/{conversation_id}/feedback\"\n",
    "    payload = {\n",
    "        \"rating\": rating,\n",
    "        \"text\": text\n",
    "    }\n",
    "    headers = {\"Content-Type\": \"application/json\"}\n",
    "    response = requests.put(url, data=json.dumps(payload), headers=headers)\n",
    "    return response.json()\n",
    "\n",
    "def insert_message(conversation_id, sender, text):\n",
    "    url = f\"{BASE_URL}/messages/insert\"\n",
    "    payload = {\n",
    "        \"conversation_id\": conversation_id,\n",
    "        \"sender\": sender,\n",
    "        \"text\": text\n",
    "    }\n",
    "    headers = {\"Content-Type\": \"application/json\"}\n",
    "    response = requests.post(url, data=json.dumps(payload), headers=headers)\n",
    "    return response.json()\n",
    "\n",
    "# Example usage\n",
    "user_id = \"123e4567-e89b-12d3-a456-426614174000\"\n",
    "conversation_id = \"123e4567-e89b-12d3-a456-426614174000\"\n",
    "conversation_title = \"Sample Conversation\"\n",
    "sender = \"user\"\n",
    "text = \"Hello, how can I help you thanks?\"\n",
    "is_useful = True\n",
    "rating = 5\n",
    "feedback_text = \"This was an excellent conversation.\"\n",
    "\n",
    "print(\"Inserting Conversation Response\")\n",
    "print(insert_conversation(conversation_id, user_id, conversation_title))\n",
    "\n",
    "print(\"Get User Conversation Response\")\n",
    "print(get_user_conversations(user_id))\n",
    "\n",
    "print(\"Inserting Message\")\n",
    "print(insert_message(conversation_id, sender, text))\n",
    "\n",
    "print(\"Get Conversation Message Response\")\n",
    "print(get_conversation_messages(conversation_id))\n",
    "\n",
    "print(\"Update Conversation Rating Response\")\n",
    "print(update_conversation_rating(conversation_id, rating, feedback_text))\n",
    "\n",
    "print(\"Deleting Conversation Response\")\n",
    "# print(delete_conversation(conversation_id))"
   ]
  },
  {
   "cell_type": "code",
   "execution_count": 41,
   "metadata": {},
   "outputs": [],
   "source": [
    "import os\n",
    "from supabase import create_client, Client\n",
    "\n",
    "url: str = os.environ.get(\"SUPABASE_URL\")\n",
    "key: str = os.environ.get(\"SUPABASE_KEY\")\n",
    "supabase: Client = create_client(url, key)"
   ]
  },
  {
   "cell_type": "code",
   "execution_count": null,
   "metadata": {},
   "outputs": [],
   "source": []
  }
 ],
 "metadata": {
  "kernelspec": {
   "display_name": "odprt",
   "language": "python",
   "name": "python3"
  },
  "language_info": {
   "codemirror_mode": {
    "name": "ipython",
    "version": 3
   },
   "file_extension": ".py",
   "mimetype": "text/x-python",
   "name": "python",
   "nbconvert_exporter": "python",
   "pygments_lexer": "ipython3",
   "version": "3.9.21"
  }
 },
 "nbformat": 4,
 "nbformat_minor": 2
}
