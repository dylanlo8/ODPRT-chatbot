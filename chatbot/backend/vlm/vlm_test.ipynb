{
 "cells": [
  {
   "cell_type": "code",
   "execution_count": null,
   "metadata": {},
   "outputs": [
    {
     "name": "stdout",
     "output_type": "stream",
     "text": [
      "{'id': 'chat-439ee6fcae9749dab70476cd5065010e', 'object': 'chat.completion', 'created': 1738738620, 'model': 'Qwen/Qwen2-VL-7B-Instruct', 'choices': [{'index': 0, 'message': {'role': 'assistant', 'content': 'This image is an architecture diagram for a Read-Ask-Generate (RAG) system. The diagram is divided into four main sections: RAG Workflow, Deployment and Scaling, Analytics & Dashboard, and a Legend. \\n\\n1. **RAG Workflow**:\\n   - **User** submits a query.\\n   - The query is processed by the **LLM (Large Language Model)**, which retrieves the top K most similar chunks/docs from the **Milvus Vector Database**.\\n   - The retrieved documents are passed to the **Firebase Relational Database** for storing user chat history.\\n   - The LLM generates an answer, which is sent to the **User**.\\n\\n2. **Deployment and Scaling**:\\n   - Users submit queries through a **Query Message Queue**.\\n   - The queries are distributed to multiple **RAG Servers** (Server 1, Server 2, Server 3) through a **Load Balancer**.\\n   - The servers process the queries and send responses to the **Response Message Queue**.\\n   - The responses are then sent back to the users.\\n\\n3. **Analytics & Dashboard**:\\n   - User queries are gathered and stored in the **Firebase Relational Database**.\\n   - The most common queries are identified.\\n   - Human analysis and refinement are performed on the most common queries.\\n   - The most common unanswered queries are analyzed and refined.\\n\\n4. **Legend**:\\n   - The legend explains the different components of the architecture, such as Generative Step, Functions/APIs, Databases, and Servers, and their corresponding colors.\\n\\nThe diagram provides a high-level overview of how the RAG system operates, from user queries to the generation of responses, and the process of analytics and dashboard management.'}, 'finish_reason': 'stop', 'logprobs': None}], 'usage': {'prompt_tokens': 27, 'total_tokens': 382, 'completion_tokens': 355}}\n"
     ]
    }
   ],
   "source": [
    "import base64\n",
    "import requests\n",
    "from io import BytesIO\n",
    "from PIL import Image\n",
    "import os\n",
    "from dotenv import load_dotenv\n",
    "\n",
    "# load_dotenv()\n",
    "api_key = os.getenv(\"HYPERBOLIC_API_KEY\")\n",
    "\n",
    "def encode_image(img):\n",
    "    buffered = BytesIO()\n",
    "    img.save(buffered, format=\"PNG\")\n",
    "    encoded_string = base64.b64encode(buffered.getvalue()).decode(\"utf-8\")\n",
    "    return encoded_string\n",
    "\n",
    "\n",
    "img = Image.open(\"chatbot/backend/vlm/image.png\")\n",
    "base64_img = encode_image(img)\n",
    "\n",
    "api = \"https://api.hyperbolic.xyz/v1/chat/completions\"\n",
    "\n",
    "headers = {\n",
    "    \"Content-Type\": \"application/json\",\n",
    "    \"Authorization\": f\"Bearer {api_key}\",\n",
    "}\n",
    "\n",
    "payload = {\n",
    "    \"messages\": [\n",
    "        {\n",
    "            \"role\": \"user\",\n",
    "            \"content\": [\n",
    "                {\"type\": \"text\", \"text\": \"What is this image?\"},\n",
    "                {\n",
    "                    \"type\": \"image_url\",\n",
    "                    \"image_url\": {\"url\": f\"data:image/jpeg;base64,{base64_img}\"},\n",
    "                },\n",
    "            ],\n",
    "        }\n",
    "    ],\n",
    "    \"model\": \"Qwen/Qwen2-VL-7B-Instruct\",\n",
    "    \"max_tokens\": 2048,\n",
    "    \"temperature\": 0.7,\n",
    "    \"top_p\": 0.9,\n",
    "}\n",
    "\n",
    "response = requests.post(api, headers=headers, json=payload)\n",
    "print(response.json())"
   ]
  }
 ],
 "metadata": {
  "kernelspec": {
   "display_name": "odprt",
   "language": "python",
   "name": "python3"
  },
  "language_info": {
   "codemirror_mode": {
    "name": "ipython",
    "version": 3
   },
   "file_extension": ".py",
   "mimetype": "text/x-python",
   "name": "python",
   "nbconvert_exporter": "python",
   "pygments_lexer": "ipython3",
   "version": "3.9.21"
  }
 },
 "nbformat": 4,
 "nbformat_minor": 2
}
